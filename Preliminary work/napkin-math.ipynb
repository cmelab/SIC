{
 "cells": [
  {
   "cell_type": "code",
   "execution_count": 15,
   "id": "483f0f9c-6e3e-4fad-8197-12303c9220f5",
   "metadata": {},
   "outputs": [
    {
     "name": "stdout",
     "output_type": "stream",
     "text": [
      "Time in seconds per frame is: 2.1260331196864793e-15\n",
      "Length of side of a cube containing 100,000 monomers of PPS in cm is: 2.111198029337648e-06\n",
      "The same length in units where sigma = 1 is: 6140.773790976288\n",
      "Number of monomers in a (10nm)^3 box is: 10627.058823529409\n",
      "The velocity of the chuck in meters per second is: 1.52\n",
      "Distance travelled by the chuck at its average velocity in nanometers per time step is: 3.2315703419234484e-06\n"
     ]
    }
   ],
   "source": [
    "import numpy as np\n",
    "# Determining time step required for PPS\n",
    "mass = 68\n",
    "sigma = 0.3438 * 10 ** - 9\n",
    "epsilon = 1778.2\n",
    "\n",
    "tau = np.sqrt((mass / 1000 * (sigma**2))/epsilon)\n",
    "time_per_frame = tau * 0.001\n",
    "print(\"Time in seconds per frame is:\", time_per_frame)\n",
    "\n",
    "# Determining volume of a box of PPS with 100,000 monomers at a density of 1.2 grams per cm^3\n",
    "volume = (mass / (6.022 * 10**23) * 100000) / 1.2\n",
    "print(\"Length of side of a cube containing 100,000 monomers of PPS in cm is:\", np.cbrt(volume))\n",
    "print(\"The same length in units where sigma = 1 is:\", (np.cbrt(volume)) / (sigma))\n",
    "\n",
    "# Determining number of PPS molecules in a 10nm^3 cube at a density of 1.2 grams per cm^3\n",
    "print(\"Number of monomers in a (10nm)^3 box is:\", (10**-6)**3 * 1.2 * (6.022 * 10**23 / 68))\n",
    "\n",
    "# Time intervals based on speed of the vibrations\n",
    "interval = 1 / 20000\n",
    "distance = 0.000038\n",
    "velocity = distance / (interval / 2)\n",
    "print(\"The velocity of the chuck in meters per second is:\", velocity)\n",
    "print(\"Distance travelled by the chuck at its average velocity in nanometers per time step is:\", (velocity * 10**9) * time_per_frame)"
   ]
  },
  {
   "cell_type": "code",
   "execution_count": null,
   "id": "d56b85be-a4f6-4205-9024-68dd47ce32a9",
   "metadata": {},
   "outputs": [],
   "source": []
  }
 ],
 "metadata": {
  "kernelspec": {
   "display_name": "Python 3 (ipykernel)",
   "language": "python",
   "name": "python3"
  },
  "language_info": {
   "codemirror_mode": {
    "name": "ipython",
    "version": 3
   },
   "file_extension": ".py",
   "mimetype": "text/x-python",
   "name": "python",
   "nbconvert_exporter": "python",
   "pygments_lexer": "ipython3",
   "version": "3.11.0"
  }
 },
 "nbformat": 4,
 "nbformat_minor": 5
}
