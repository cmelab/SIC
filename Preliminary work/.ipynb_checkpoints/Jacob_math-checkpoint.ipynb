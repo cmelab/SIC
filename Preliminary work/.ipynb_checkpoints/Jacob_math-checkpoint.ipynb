{
 "cells": [
  {
   "cell_type": "code",
   "execution_count": null,
   "id": "483f0f9c-6e3e-4fad-8197-12303c9220f5",
   "metadata": {},
   "outputs": [],
   "source": [
    "import numpy as np\n",
    "# Determining time step required for PPS\n",
    "mass = 68\n",
    "sigma = 0.3438 * 10 ** - 9\n",
    "epsilon = 1778.2\n",
    "\n",
    "tau = np.sqrt((mass / 1000 * (sigma**2))/epsilon)\n",
    "print(\"Time in seconds per frame is:\", tau * 0.001)\n",
    "\n",
    "# Determining volume of a box of PPS with 100,000 monomers at a density of 1.2 grams per cm^3\n",
    "volume = (mass / (6.022 * 10**23) * 100000) / 1.2\n",
    "print(\"Length of side of a cube containing 100,000 monomers of PPS in cm is:\", np.cbrt(bruh))\n",
    "\n",
    "# Determining number of PPS molecules in a 10nm^3 cube at a density of 1.2 grams per cm^3\n",
    "print(\"Number of monomers in a (10nm)^3 box is:\", (10**-6)**3 * 1.2 * (6.022 * 10**23 / 68))"
   ]
  }
 ],
 "metadata": {
  "kernelspec": {
   "display_name": "Python 3 (ipykernel)",
   "language": "python",
   "name": "python3"
  },
  "language_info": {
   "codemirror_mode": {
    "name": "ipython",
    "version": 3
   },
   "file_extension": ".py",
   "mimetype": "text/x-python",
   "name": "python",
   "nbconvert_exporter": "python",
   "pygments_lexer": "ipython3",
   "version": "3.11.0"
  }
 },
 "nbformat": 4,
 "nbformat_minor": 5
}
