{
 "cells": [
  {
   "cell_type": "code",
   "execution_count": 1,
   "id": "78176251-78c7-4638-8f63-cfa607f9e665",
   "metadata": {},
   "outputs": [
    {
     "name": "stderr",
     "output_type": "stream",
     "text": [
      "/home/jbieri/miniforge3/envs/flowerMD/lib/python3.11/site-packages/mdtraj/formats/__init__.py:13: DeprecationWarning: 'xdrlib' is deprecated and slated for removal in Python 3.13\n",
      "  from mdtraj.formats.trr import TRRTrajectoryFile\n"
     ]
    }
   ],
   "source": [
    "import flowermd\n",
    "import hoomd\n",
    "import gsd\n",
    "import matplotlib.pyplot as plt\n",
    "import numpy as np\n",
    "import freud\n",
    "import time"
   ]
  },
  {
   "cell_type": "code",
   "execution_count": 7,
   "id": "32f9c84f-2be1-444b-bcd6-f5764faa4724",
   "metadata": {},
   "outputs": [],
   "source": [
    "traj = gsd.hoomd.open('given-pps-cg.gsd')\n",
    "nematic = freud.order.Nematic()"
   ]
  },
  {
   "cell_type": "code",
   "execution_count": 8,
   "id": "bffb34bb-8553-4ccd-9417-af3eedcdb2c4",
   "metadata": {},
   "outputs": [],
   "source": [
    "def nop(frame):\n",
    "    # Get the positional data of all atoms\n",
    "    positions = frame.particles.position\n",
    "    # Get the number of molecules\n",
    "    molecule_ids = frame.bonds.group\n",
    "    # Assigning the first atoms position to temp variable\n",
    "    temp = positions[0]\n",
    "    # Initialize list of vectors\n",
    "    vectors = []\n",
    "    # Loop through all atoms with counter i\n",
    "    for i, pos in enumerate(positions):\n",
    "        # Check to see if all atoms have been counted\n",
    "        if i < len(molecule_ids):\n",
    "            # Addding the vector difference between current and previous atom positions\n",
    "            # np.stack allows for them to be treated as arrays\n",
    "            vectors.append(np.stack(pos) - np.stack(temp))\n",
    "            # Updating temp variable for the next cycle\n",
    "            temp = pos\n",
    "            # Converting the list into an array, ignoring the first one\n",
    "    vectors = np.array(vectors[1:])\n",
    "    return vectors"
   ]
  },
  {
   "cell_type": "code",
   "execution_count": 23,
   "id": "3725e982-79c5-41ba-a9b1-2167b96d1f10",
   "metadata": {
    "scrolled": true
   },
   "outputs": [
    {
     "name": "stdout",
     "output_type": "stream",
     "text": [
      "Nematic Order Parameter: 0.08366385847330093\n",
      "Nematic Order Parameter: 0.08125422894954681\n",
      "Nematic Order Parameter: 0.08344503492116928\n",
      "Nematic Order Parameter: 0.07996775209903717\n",
      "Nematic Order Parameter: 0.07861026376485825\n",
      "Nematic Order Parameter: 0.07698453962802887\n",
      "Nematic Order Parameter: 0.07232198864221573\n",
      "Nematic Order Parameter: 0.07394231110811234\n",
      "Nematic Order Parameter: 0.07208936661481857\n",
      "Nematic Order Parameter: 0.06853335350751877\n",
      "Nematic Order Parameter: 0.06938223540782928\n",
      "Nematic Order Parameter: 0.06591778993606567\n",
      "Nematic Order Parameter: 0.061639755964279175\n",
      "Nematic Order Parameter: 0.06113794818520546\n",
      "Nematic Order Parameter: 0.06189383566379547\n",
      "Nematic Order Parameter: 0.058902766555547714\n",
      "Nematic Order Parameter: 0.05628734081983566\n",
      "Nematic Order Parameter: 0.05582909286022186\n",
      "Nematic Order Parameter: 0.05761820822954178\n",
      "Nematic Order Parameter: 0.057933609932661057\n",
      "Nematic Order Parameter: 0.06021536886692047\n",
      "Nematic Order Parameter: 0.055087361484766006\n",
      "Nematic Order Parameter: 0.055895816534757614\n",
      "Nematic Order Parameter: 0.05286899581551552\n",
      "Nematic Order Parameter: 0.05258523300290108\n",
      "Nematic Order Parameter: 0.053942855447530746\n",
      "Nematic Order Parameter: 0.052481770515441895\n",
      "Nematic Order Parameter: 0.055645741522312164\n",
      "Nematic Order Parameter: 0.053590692579746246\n",
      "Nematic Order Parameter: 0.053175970911979675\n",
      "Nematic Order Parameter: 0.05460463464260101\n",
      "Nematic Order Parameter: 0.05223904922604561\n",
      "Nematic Order Parameter: 0.04877176508307457\n",
      "Nematic Order Parameter: 0.05178559198975563\n",
      "Nematic Order Parameter: 0.049174219369888306\n",
      "Nematic Order Parameter: 0.04610547423362732\n",
      "Nematic Order Parameter: 0.04651501402258873\n",
      "Nematic Order Parameter: 0.044763803482055664\n",
      "Nematic Order Parameter: 0.043673671782016754\n",
      "Nematic Order Parameter: 0.04656313732266426\n",
      "Nematic Order Parameter: 0.045293401926755905\n",
      "Nematic Order Parameter: 0.04263882711529732\n",
      "Nematic Order Parameter: 0.04503350332379341\n",
      "Nematic Order Parameter: 0.040547631680965424\n",
      "Nematic Order Parameter: 0.04068813845515251\n",
      "Nematic Order Parameter: 0.04290491342544556\n",
      "Nematic Order Parameter: 0.03948397934436798\n",
      "Nematic Order Parameter: 0.04001797363162041\n",
      "Nematic Order Parameter: 0.04310952126979828\n",
      "Nematic Order Parameter: 0.04209786280989647\n",
      "Nematic Order Parameter: 0.041398558765649796\n",
      "Nematic Order Parameter: 0.040735676884651184\n",
      "Nematic Order Parameter: 0.039279770106077194\n",
      "Nematic Order Parameter: 0.04083627462387085\n",
      "Nematic Order Parameter: 0.040362343192100525\n",
      "Nematic Order Parameter: 0.03962402790784836\n",
      "Nematic Order Parameter: 0.036466773599386215\n",
      "Nematic Order Parameter: 0.04134022444486618\n",
      "Nematic Order Parameter: 0.03847881406545639\n",
      "Nematic Order Parameter: 0.03803576901555061\n",
      "Nematic Order Parameter: 0.03831244260072708\n",
      "Nematic Order Parameter: 0.036403000354766846\n",
      "Nematic Order Parameter: 0.03451938554644585\n",
      "Nematic Order Parameter: 0.03541029617190361\n",
      "Nematic Order Parameter: 0.03485655412077904\n",
      "Nematic Order Parameter: 0.037011947482824326\n",
      "Nematic Order Parameter: 0.0357440784573555\n",
      "Nematic Order Parameter: 0.03949113190174103\n",
      "Nematic Order Parameter: 0.03312605619430542\n",
      "Nematic Order Parameter: 0.03148793801665306\n",
      "Nematic Order Parameter: 0.028515208512544632\n",
      "Nematic Order Parameter: 0.03294767066836357\n",
      "Nematic Order Parameter: 0.0332682840526104\n",
      "Nematic Order Parameter: 0.030869662761688232\n",
      "Nematic Order Parameter: 0.027636829763650894\n",
      "Nematic Order Parameter: 0.029338127002120018\n",
      "Nematic Order Parameter: 0.03032296895980835\n",
      "Nematic Order Parameter: 0.02976156212389469\n",
      "Nematic Order Parameter: 0.02731253020465374\n",
      "Nematic Order Parameter: 0.027603663504123688\n",
      "Nematic Order Parameter: 0.025101395323872566\n",
      "Nematic Order Parameter: 0.02366473525762558\n",
      "Nematic Order Parameter: 0.0235565435141325\n",
      "Nematic Order Parameter: 0.025671491399407387\n",
      "Nematic Order Parameter: 0.02518250048160553\n",
      "Nematic Order Parameter: 0.022922160103917122\n",
      "Nematic Order Parameter: 0.02323678322136402\n",
      "Nematic Order Parameter: 0.02170468680560589\n",
      "Nematic Order Parameter: 0.024994507431983948\n",
      "Nematic Order Parameter: 0.02704097330570221\n",
      "Nematic Order Parameter: 0.025395236909389496\n",
      "Nematic Order Parameter: 0.02521616406738758\n",
      "Nematic Order Parameter: 0.027271883562207222\n",
      "Nematic Order Parameter: 0.028187450021505356\n",
      "Nematic Order Parameter: 0.030880261212587357\n",
      "Nematic Order Parameter: 0.032606497406959534\n",
      "Nematic Order Parameter: 0.031351488083601\n",
      "Nematic Order Parameter: 0.03604283183813095\n",
      "Nematic Order Parameter: 0.032653965055942535\n",
      "Nematic Order Parameter: 0.030975820496678352\n",
      "Nematic Order Parameter: 0.0345090813934803\n",
      "Time taken: 31.026157999999995 s\n"
     ]
    }
   ],
   "source": [
    "# METHOD 1\n",
    "# Starting timer to see how long this process takes\n",
    "start = time.process_time()\n",
    "orders = []\n",
    "frames = []\n",
    "count = 0\n",
    "# Iterate through every frame in the trajectory\n",
    "for frame in traj:\n",
    "    # Appending the count to assign the frame a number\n",
    "    count += 1\n",
    "    frames.append(count)\n",
    "    # Computing the S2 order parameter based off of the nop function of the frame\n",
    "    nematic.compute(nop(frame))\n",
    "    # Appending the order of the frame for plotting purposes\n",
    "    orders.append(nematic.order)\n",
    "    print(\"Nematic Order Parameter:\", nematic.order)\n",
    "print(\"Time taken:\", time.process_time() - start, \"s\")"
   ]
  },
  {
   "cell_type": "code",
   "execution_count": 24,
   "id": "c8764fad-9eb9-4adb-bd4b-798286612b5e",
   "metadata": {},
   "outputs": [
    {
     "data": {
      "text/plain": [
       "<matplotlib.collections.PathCollection at 0x7f2564099090>"
      ]
     },
     "execution_count": 24,
     "metadata": {},
     "output_type": "execute_result"
    },
    {
     "data": {
      "image/png": "[encoded data removed]",
      "text/plain": [
       "<Figure size 640x480 with 1 Axes>"
      ]
     },
     "metadata": {},
     "output_type": "display_data"
    }
   ],
   "source": [
    "plt.scatter(frames, orders)\n",
    "plt.xlabel(\"Frame\")\n",
    "plt.ylabel(\"S2 parameter\")\n",
    "plt.title(\"Method 1\")"
   ]
  },
  {
   "cell_type": "code",
   "execution_count": 9,
   "id": "b2517f3e-82d7-43fc-be8d-949966068874",
   "metadata": {},
   "outputs": [
    {
     "name": "stdout",
     "output_type": "stream",
     "text": [
      "Time taken: 5.971042 s\n"
     ]
    }
   ],
   "source": [
    "# METHOD 2\n",
    "orders = []\n",
    "frames = []\n",
    "# Starting timer to see how long this process takes\n",
    "start = time.process_time()\n",
    "count = 0\n",
    "# Iterate through every frame in the trajectory\n",
    "for frame in traj:\n",
    "    count += 1\n",
    "    # Appending the count to assign the frame a number\n",
    "    frames.append(count)\n",
    "    # Getting the positions of every atom\n",
    "    positions = frame.particles.position\n",
    "    # Computing the S2 order parameter based off of that\n",
    "    nematic.compute(positions)\n",
    "    # Appending the order of the frame for plotting purposes\n",
    "    orders.append(nematic.order)\n",
    "print(\"Time taken:\", time.process_time() - start, \"s\")"
   ]
  },
  {
   "cell_type": "code",
   "execution_count": 10,
   "id": "1dbae2f6-394e-43af-8844-f77638ff97b1",
   "metadata": {},
   "outputs": [
    {
     "name": "stderr",
     "output_type": "stream",
     "text": [
      "/home/jbieri/miniforge3/envs/flowerMD/lib/python3.11/site-packages/IPython/core/pylabtools.py:77: DeprecationWarning: backend2gui is deprecated since IPython 8.24, backends are managed in matplotlib and can be externally registered.\n",
      "  warnings.warn(\n",
      "/home/jbieri/miniforge3/envs/flowerMD/lib/python3.11/site-packages/IPython/core/pylabtools.py:77: DeprecationWarning: backend2gui is deprecated since IPython 8.24, backends are managed in matplotlib and can be externally registered.\n",
      "  warnings.warn(\n",
      "/home/jbieri/miniforge3/envs/flowerMD/lib/python3.11/site-packages/IPython/core/pylabtools.py:77: DeprecationWarning: backend2gui is deprecated since IPython 8.24, backends are managed in matplotlib and can be externally registered.\n",
      "  warnings.warn(\n"
     ]
    },
    {
     "data": {
      "text/plain": [
       "Text(0.5, 1.0, 'Method 2')"
      ]
     },
     "execution_count": 10,
     "metadata": {},
     "output_type": "execute_result"
    },
    {
     "data": {
      "image/png": "[encoded data removed]",
      "text/plain": [
       "<Figure size 640x480 with 1 Axes>"
      ]
     },
     "metadata": {},
     "output_type": "display_data"
    }
   ],
   "source": [
    "plt.scatter(frames, orders)\n",
    "plt.xlabel(\"Frame\")\n",
    "plt.ylabel(\"S2 parameter\")\n",
    "plt.title(\"Method 2\")"
   ]
  }
 ],
 "metadata": {
  "kernelspec": {
   "display_name": "Python 3 (ipykernel)",
   "language": "python",
   "name": "python3"
  },
  "language_info": {
   "codemirror_mode": {
    "name": "ipython",
    "version": 3
   },
   "file_extension": ".py",
   "mimetype": "text/x-python",
   "name": "python",
   "nbconvert_exporter": "python",
   "pygments_lexer": "ipython3",
   "version": "3.11.0"
  }
 },
 "nbformat": 4,
 "nbformat_minor": 5
}
