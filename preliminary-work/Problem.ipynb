{
 "cells": [
  {
   "cell_type": "code",
   "execution_count": 1,
   "id": "78176251-78c7-4638-8f63-cfa607f9e665",
   "metadata": {},
   "outputs": [
    {
     "name": "stderr",
     "output_type": "stream",
     "text": [
      "/home/jbieri/miniforge3/envs/flowerMD/lib/python3.11/site-packages/mdtraj/formats/__init__.py:13: DeprecationWarning: 'xdrlib' is deprecated and slated for removal in Python 3.13\n",
      "  from mdtraj.formats.trr import TRRTrajectoryFile\n"
     ]
    }
   ],
   "source": [
    "import flowermd\n",
    "import hoomd\n",
    "import gsd\n",
    "import matplotlib.pyplot as plt\n",
    "import numpy as np\n",
    "import freud"
   ]
  },
  {
   "cell_type": "code",
   "execution_count": 2,
   "id": "32f9c84f-2be1-444b-bcd6-f5764faa4724",
   "metadata": {},
   "outputs": [],
   "source": [
    "traj = gsd.hoomd.open('given-pps-cg.gsd')"
   ]
  },
  {
   "cell_type": "code",
   "execution_count": 3,
   "id": "bffb34bb-8553-4ccd-9417-af3eedcdb2c4",
   "metadata": {},
   "outputs": [],
   "source": [
    "def nop(frame):\n",
    "    positions = frame.particles.position\n",
    "    molecule_ids = frame.bonds.group\n",
    "    temp = positions[0]\n",
    "    vectors = []\n",
    "    for i, pos in enumerate(positions):\n",
    "            if i < len(molecule_ids):\n",
    "                vectors.append(np.stack(pos) - np.stack(temp))\n",
    "                temp = pos\n",
    "    vectors = np.array(vectors[1:])\n",
    "    return vectors"
   ]
  },
  {
   "cell_type": "code",
   "execution_count": 4,
   "id": "3725e982-79c5-41ba-a9b1-2167b96d1f10",
   "metadata": {
    "scrolled": true
   },
   "outputs": [
    {
     "name": "stdout",
     "output_type": "stream",
     "text": [
      "Nematic Order Parameter: 0.08366381376981735\n",
      "Nematic Order Parameter: 0.08125422894954681\n",
      "Nematic Order Parameter: 0.08344504237174988\n",
      "Nematic Order Parameter: 0.07996778935194016\n",
      "Nematic Order Parameter: 0.07861025631427765\n",
      "Nematic Order Parameter: 0.07698450982570648\n",
      "Nematic Order Parameter: 0.07232198864221573\n",
      "Nematic Order Parameter: 0.07394228875637054\n",
      "Nematic Order Parameter: 0.07208936661481857\n",
      "Nematic Order Parameter: 0.06853335350751877\n",
      "Nematic Order Parameter: 0.06938224285840988\n",
      "Nematic Order Parameter: 0.06591777503490448\n",
      "Nematic Order Parameter: 0.061639778316020966\n",
      "Nematic Order Parameter: 0.06113795191049576\n",
      "Nematic Order Parameter: 0.06189385801553726\n",
      "Nematic Order Parameter: 0.05890277400612831\n",
      "Nematic Order Parameter: 0.05628732591867447\n",
      "Nematic Order Parameter: 0.05582907423377037\n",
      "Nematic Order Parameter: 0.057618219405412674\n",
      "Nematic Order Parameter: 0.05793359875679016\n",
      "Nematic Order Parameter: 0.06021534278988838\n",
      "Nematic Order Parameter: 0.05508735403418541\n",
      "Nematic Order Parameter: 0.05589582026004791\n",
      "Nematic Order Parameter: 0.05286899209022522\n",
      "Nematic Order Parameter: 0.05258519947528839\n",
      "Nematic Order Parameter: 0.05394286662340164\n",
      "Nematic Order Parameter: 0.05248177796602249\n",
      "Nematic Order Parameter: 0.055645763874053955\n",
      "Nematic Order Parameter: 0.053590696305036545\n",
      "Nematic Order Parameter: 0.053175970911979675\n",
      "Nematic Order Parameter: 0.05460460111498833\n",
      "Nematic Order Parameter: 0.05223905295133591\n",
      "Nematic Order Parameter: 0.04877176508307457\n",
      "Nematic Order Parameter: 0.05178557708859444\n",
      "Nematic Order Parameter: 0.049174219369888306\n",
      "Nematic Order Parameter: 0.04610550403594971\n",
      "Nematic Order Parameter: 0.04651501029729843\n",
      "Nematic Order Parameter: 0.04476381465792656\n",
      "Nematic Order Parameter: 0.04367366433143616\n",
      "Nematic Order Parameter: 0.04656314477324486\n",
      "Nematic Order Parameter: 0.0452934093773365\n",
      "Nematic Order Parameter: 0.04263882339000702\n",
      "Nematic Order Parameter: 0.04503350332379341\n",
      "Nematic Order Parameter: 0.040547654032707214\n",
      "Nematic Order Parameter: 0.04068813472986221\n",
      "Nematic Order Parameter: 0.04290490597486496\n",
      "Nematic Order Parameter: 0.03948396071791649\n",
      "Nematic Order Parameter: 0.04001796618103981\n",
      "Nematic Order Parameter: 0.04310953989624977\n",
      "Nematic Order Parameter: 0.042097873985767365\n",
      "Nematic Order Parameter: 0.041398558765649796\n",
      "Nematic Order Parameter: 0.040735695511102676\n",
      "Nematic Order Parameter: 0.03927977383136749\n",
      "Nematic Order Parameter: 0.04083627462387085\n",
      "Nematic Order Parameter: 0.04036232456564903\n",
      "Nematic Order Parameter: 0.039624061435461044\n",
      "Nematic Order Parameter: 0.036466777324676514\n",
      "Nematic Order Parameter: 0.041340216994285583\n",
      "Nematic Order Parameter: 0.03847880661487579\n",
      "Nematic Order Parameter: 0.03803578019142151\n",
      "Nematic Order Parameter: 0.038312431424856186\n",
      "Nematic Order Parameter: 0.036403000354766846\n",
      "Nematic Order Parameter: 0.03451938182115555\n",
      "Nematic Order Parameter: 0.03541028872132301\n",
      "Nematic Order Parameter: 0.03485655412077904\n",
      "Nematic Order Parameter: 0.03701195865869522\n",
      "Nematic Order Parameter: 0.0357440747320652\n",
      "Nematic Order Parameter: 0.03949112817645073\n",
      "Nematic Order Parameter: 0.03312606364488602\n",
      "Nematic Order Parameter: 0.03148794546723366\n",
      "Nematic Order Parameter: 0.028515201061964035\n",
      "Nematic Order Parameter: 0.032947685569524765\n",
      "Nematic Order Parameter: 0.033268287777900696\n",
      "Nematic Order Parameter: 0.030869657173752785\n",
      "Nematic Order Parameter: 0.02763684093952179\n",
      "Nematic Order Parameter: 0.02933812327682972\n",
      "Nematic Order Parameter: 0.030322980135679245\n",
      "Nematic Order Parameter: 0.029761575162410736\n",
      "Nematic Order Parameter: 0.027312522754073143\n",
      "Nematic Order Parameter: 0.027603670954704285\n",
      "Nematic Order Parameter: 0.02510140649974346\n",
      "Nematic Order Parameter: 0.023664727807044983\n",
      "Nematic Order Parameter: 0.0235565397888422\n",
      "Nematic Order Parameter: 0.02567148767411709\n",
      "Nematic Order Parameter: 0.02518249675631523\n",
      "Nematic Order Parameter: 0.022922150790691376\n",
      "Nematic Order Parameter: 0.023236790671944618\n",
      "Nematic Order Parameter: 0.02170468494296074\n",
      "Nematic Order Parameter: 0.02499452978372574\n",
      "Nematic Order Parameter: 0.027040982618927956\n",
      "Nematic Order Parameter: 0.025395246222615242\n",
      "Nematic Order Parameter: 0.025216173380613327\n",
      "Nematic Order Parameter: 0.027271870523691177\n",
      "Nematic Order Parameter: 0.02818744070827961\n",
      "Nematic Order Parameter: 0.030880263075232506\n",
      "Nematic Order Parameter: 0.03260648995637894\n",
      "Nematic Order Parameter: 0.031351495534181595\n",
      "Nematic Order Parameter: 0.03604283928871155\n",
      "Nematic Order Parameter: 0.032653968781232834\n",
      "Nematic Order Parameter: 0.03097580187022686\n",
      "Nematic Order Parameter: 0.03450907766819\n",
      "Time taken: 29.1827641 s\n"
     ]
    }
   ],
   "source": [
    "nematic = freud.order.Nematic()\n",
    "import time\n",
    "start = time.process_time()\n",
    "orders = []\n",
    "frames = []\n",
    "count = 0\n",
    "for frame in traj:\n",
    "    count += 1\n",
    "    frames.append(count)\n",
    "    nematic.compute(nop(frame))\n",
    "    orders.append(nematic.order)\n",
    "    print(\"Nematic Order Parameter:\", nematic.order)\n",
    "print(\"Time taken:\", time.process_time() - start, \"s\")"
   ]
  },
  {
   "cell_type": "code",
   "execution_count": 15,
   "id": "ecabd07d-814b-4bda-b643-20d03ded20a7",
   "metadata": {},
   "outputs": [
    {
     "name": "stdout",
     "output_type": "stream",
     "text": [
      "9400\n",
      "9800\n"
     ]
    }
   ],
   "source": [
    "positions = traj[0].particles.position\n",
    "molecule_ids = traj[0].bonds.group\n",
    "print(len(molecule_ids))\n",
    "print(len(positions))\n",
    "temp = positions[0]\n",
    "vectors = []\n",
    "for i, pos in enumerate(positions):\n",
    "        if i < len(molecule_ids):\n",
    "            vectors.append(np.stack(pos) - np.stack(temp))\n",
    "            temp = pos\n",
    "vectors = np.array(vectors[1:])"
   ]
  },
  {
   "cell_type": "code",
   "execution_count": 5,
   "id": "c8764fad-9eb9-4adb-bd4b-798286612b5e",
   "metadata": {},
   "outputs": [
    {
     "name": "stderr",
     "output_type": "stream",
     "text": [
      "/home/jbieri/miniforge3/envs/flowerMD/lib/python3.11/site-packages/IPython/core/pylabtools.py:77: DeprecationWarning: backend2gui is deprecated since IPython 8.24, backends are managed in matplotlib and can be externally registered.\n",
      "  warnings.warn(\n",
      "/home/jbieri/miniforge3/envs/flowerMD/lib/python3.11/site-packages/IPython/core/pylabtools.py:77: DeprecationWarning: backend2gui is deprecated since IPython 8.24, backends are managed in matplotlib and can be externally registered.\n",
      "  warnings.warn(\n",
      "/home/jbieri/miniforge3/envs/flowerMD/lib/python3.11/site-packages/IPython/core/pylabtools.py:77: DeprecationWarning: backend2gui is deprecated since IPython 8.24, backends are managed in matplotlib and can be externally registered.\n",
      "  warnings.warn(\n"
     ]
    },
    {
     "data": {
      "text/plain": [
       "<matplotlib.collections.PathCollection at 0x7f88a07876d0>"
      ]
     },
     "execution_count": 5,
     "metadata": {},
     "output_type": "execute_result"
    },
    {
     "data": {
      "image/png": "[encoded data removed]",
      "text/plain": [
       "<Figure size 640x480 with 1 Axes>"
      ]
     },
     "metadata": {},
     "output_type": "display_data"
    }
   ],
   "source": [
    "plt.scatter(frames, orders)"
   ]
  },
  {
   "cell_type": "code",
   "execution_count": 6,
   "id": "b2517f3e-82d7-43fc-be8d-949966068874",
   "metadata": {},
   "outputs": [],
   "source": [
    "orders = []\n",
    "frames = []\n",
    "for frame in traj:\n",
    "    count += 1\n",
    "    frames.append(count)\n",
    "    positions = frame.particles.position\n",
    "    nematic.compute(positions)\n",
    "    orders.append(nematic.order)\n",
    "    "
   ]
  },
  {
   "cell_type": "code",
   "execution_count": 7,
   "id": "1dbae2f6-394e-43af-8844-f77638ff97b1",
   "metadata": {},
   "outputs": [
    {
     "data": {
      "text/plain": [
       "Text(0, 0.5, 'S2 parameter')"
      ]
     },
     "execution_count": 7,
     "metadata": {},
     "output_type": "execute_result"
    },
    {
     "data": {
      "image/png": "[encoded data removed]",
      "text/plain": [
       "<Figure size 640x480 with 1 Axes>"
      ]
     },
     "metadata": {},
     "output_type": "display_data"
    }
   ],
   "source": [
    "plt.scatter(frames, orders)\n",
    "plt.xlabel(\"Frame\")\n",
    "plt.ylabel(\"S2 parameter\")"
   ]
  },
  {
   "cell_type": "code",
   "execution_count": null,
   "id": "6b1dc43f-30dd-4af1-9bb8-d136030f0493",
   "metadata": {},
   "outputs": [],
   "source": []
  }
 ],
 "metadata": {
  "kernelspec": {
   "display_name": "Python 3 (ipykernel)",
   "language": "python",
   "name": "python3"
  },
  "language_info": {
   "codemirror_mode": {
    "name": "ipython",
    "version": 3
   },
   "file_extension": ".py",
   "mimetype": "text/x-python",
   "name": "python",
   "nbconvert_exporter": "python",
   "pygments_lexer": "ipython3",
   "version": "3.11.0"
  }
 },
 "nbformat": 4,
 "nbformat_minor": 5
}
