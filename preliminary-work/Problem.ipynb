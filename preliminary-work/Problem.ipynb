{
 "cells": [
  {
   "cell_type": "code",
   "execution_count": 11,
   "id": "78176251-78c7-4638-8f63-cfa607f9e665",
   "metadata": {},
   "outputs": [],
   "source": [
    "import flowermd\n",
    "import hoomd\n",
    "import gsd\n",
    "import matplotlib.pyplot as plt\n",
    "import numpy as np\n",
    "import freud"
   ]
  },
  {
   "cell_type": "code",
   "execution_count": 12,
   "id": "32f9c84f-2be1-444b-bcd6-f5764faa4724",
   "metadata": {},
   "outputs": [],
   "source": [
    "traj = gsd.hoomd.open('given-pps-cg.gsd')"
   ]
  },
  {
   "cell_type": "code",
   "execution_count": 13,
   "id": "bffb34bb-8553-4ccd-9417-af3eedcdb2c4",
   "metadata": {},
   "outputs": [],
   "source": [
    "def nop(frame):\n",
    "    positions = frame.particles.position\n",
    "    molecule_ids = frame.bonds.group\n",
    "    temp = positions[0]\n",
    "    vectors = []\n",
    "    for i, pos in enumerate(positions):\n",
    "            if i < len(molecule_ids):\n",
    "                vectors.append(np.stack(pos) - np.stack(temp))\n",
    "                temp = pos\n",
    "    vectors = np.array(vectors[1:])\n",
    "    return vectors"
   ]
  },
  {
   "cell_type": "code",
   "execution_count": 14,
   "id": "3725e982-79c5-41ba-a9b1-2167b96d1f10",
   "metadata": {
    "scrolled": true
   },
   "outputs": [
    {
     "name": "stdout",
     "output_type": "stream",
     "text": [
      "Nematic Order Parameter: 0.08366385102272034\n",
      "Nematic Order Parameter: 0.08125421404838562\n",
      "Nematic Order Parameter: 0.08344501256942749\n",
      "Nematic Order Parameter: 0.07996777445077896\n",
      "Nematic Order Parameter: 0.07861024141311646\n",
      "Nematic Order Parameter: 0.07698450982570648\n",
      "Nematic Order Parameter: 0.07232197374105453\n",
      "Nematic Order Parameter: 0.07394228875637054\n",
      "Nematic Order Parameter: 0.07208935171365738\n",
      "Nematic Order Parameter: 0.06853333860635757\n",
      "Nematic Order Parameter: 0.06938223540782928\n",
      "Nematic Order Parameter: 0.06591774523258209\n",
      "Nematic Order Parameter: 0.06163978576660156\n",
      "Nematic Order Parameter: 0.06113792955875397\n",
      "Nematic Order Parameter: 0.06189384683966637\n",
      "Nematic Order Parameter: 0.05890277028083801\n",
      "Nematic Order Parameter: 0.05628732964396477\n",
      "Nematic Order Parameter: 0.05582909286022186\n",
      "Nematic Order Parameter: 0.05761822685599327\n",
      "Nematic Order Parameter: 0.057933587580919266\n",
      "Nematic Order Parameter: 0.06021534651517868\n",
      "Nematic Order Parameter: 0.05508735775947571\n",
      "Nematic Order Parameter: 0.05589583143591881\n",
      "Nematic Order Parameter: 0.05286899581551552\n",
      "Nematic Order Parameter: 0.052585236728191376\n",
      "Nematic Order Parameter: 0.053942859172821045\n",
      "Nematic Order Parameter: 0.05248178169131279\n",
      "Nematic Order Parameter: 0.05564574897289276\n",
      "Nematic Order Parameter: 0.053590692579746246\n",
      "Nematic Order Parameter: 0.05317595601081848\n",
      "Nematic Order Parameter: 0.054604630917310715\n",
      "Nematic Order Parameter: 0.05223902687430382\n",
      "Nematic Order Parameter: 0.04877175763249397\n",
      "Nematic Order Parameter: 0.05178556963801384\n",
      "Nematic Order Parameter: 0.04917421191930771\n",
      "Nematic Order Parameter: 0.04610549286007881\n",
      "Nematic Order Parameter: 0.04651502147316933\n",
      "Nematic Order Parameter: 0.044763803482055664\n",
      "Nematic Order Parameter: 0.04367366060614586\n",
      "Nematic Order Parameter: 0.04656315594911575\n",
      "Nematic Order Parameter: 0.04529343172907829\n",
      "Nematic Order Parameter: 0.042638812214136124\n",
      "Nematic Order Parameter: 0.045033495873212814\n",
      "Nematic Order Parameter: 0.04054763540625572\n",
      "Nematic Order Parameter: 0.04068813472986221\n",
      "Nematic Order Parameter: 0.04290491342544556\n",
      "Nematic Order Parameter: 0.039483968168497086\n",
      "Nematic Order Parameter: 0.040017981082201004\n",
      "Nematic Order Parameter: 0.04310952126979828\n",
      "Nematic Order Parameter: 0.042097873985767365\n",
      "Nematic Order Parameter: 0.0413985513150692\n",
      "Nematic Order Parameter: 0.040735695511102676\n",
      "Nematic Order Parameter: 0.03927977383136749\n",
      "Nematic Order Parameter: 0.04083629697561264\n",
      "Nematic Order Parameter: 0.04036232456564903\n",
      "Nematic Order Parameter: 0.039624035358428955\n",
      "Nematic Order Parameter: 0.03646678104996681\n",
      "Nematic Order Parameter: 0.041340216994285583\n",
      "Nematic Order Parameter: 0.0384787954390049\n",
      "Nematic Order Parameter: 0.03803577274084091\n",
      "Nematic Order Parameter: 0.03831244260072708\n",
      "Nematic Order Parameter: 0.036403004080057144\n",
      "Nematic Order Parameter: 0.03451937809586525\n",
      "Nematic Order Parameter: 0.03541027009487152\n",
      "Nematic Order Parameter: 0.03485658019781113\n",
      "Nematic Order Parameter: 0.03701193630695343\n",
      "Nematic Order Parameter: 0.0357440710067749\n",
      "Nematic Order Parameter: 0.03949112445116043\n",
      "Nematic Order Parameter: 0.03312605619430542\n",
      "Nematic Order Parameter: 0.03148793801665306\n",
      "Nematic Order Parameter: 0.028515217825770378\n",
      "Nematic Order Parameter: 0.03294767811894417\n",
      "Nematic Order Parameter: 0.03326829522848129\n",
      "Nematic Order Parameter: 0.030869659036397934\n",
      "Nematic Order Parameter: 0.027636829763650894\n",
      "Nematic Order Parameter: 0.029338164255023003\n",
      "Nematic Order Parameter: 0.03032296523451805\n",
      "Nematic Order Parameter: 0.029761584475636482\n",
      "Nematic Order Parameter: 0.027312535792589188\n",
      "Nematic Order Parameter: 0.027603667229413986\n",
      "Nematic Order Parameter: 0.02510140836238861\n",
      "Nematic Order Parameter: 0.023664740845561028\n",
      "Nematic Order Parameter: 0.023556537926197052\n",
      "Nematic Order Parameter: 0.025671469047665596\n",
      "Nematic Order Parameter: 0.025182491168379784\n",
      "Nematic Order Parameter: 0.022922147065401077\n",
      "Nematic Order Parameter: 0.023236796259880066\n",
      "Nematic Order Parameter: 0.021704697981476784\n",
      "Nematic Order Parameter: 0.02499449998140335\n",
      "Nematic Order Parameter: 0.02704095095396042\n",
      "Nematic Order Parameter: 0.025395240634679794\n",
      "Nematic Order Parameter: 0.02521616220474243\n",
      "Nematic Order Parameter: 0.027271877974271774\n",
      "Nematic Order Parameter: 0.02818744070827961\n",
      "Nematic Order Parameter: 0.030880248174071312\n",
      "Nematic Order Parameter: 0.03260648995637894\n",
      "Nematic Order Parameter: 0.0313514769077301\n",
      "Nematic Order Parameter: 0.03604283183813095\n",
      "Nematic Order Parameter: 0.032653965055942535\n",
      "Nematic Order Parameter: 0.0309758298099041\n",
      "Nematic Order Parameter: 0.034509092569351196\n",
      "Time taken: 19.9015421 s\n"
     ]
    }
   ],
   "source": [
    "nematic = freud.order.Nematic()\n",
    "import time\n",
    "start = time.process_time()\n",
    "orders = []\n",
    "frames = []\n",
    "count = 0\n",
    "for frame in traj:\n",
    "    count += 1\n",
    "    frames.append(count)\n",
    "    nematic.compute(nop(frame))\n",
    "    orders.append(nematic.order)\n",
    "    print(\"Nematic Order Parameter:\", nematic.order)\n",
    "print(\"Time taken:\", time.process_time() - start, \"s\")"
   ]
  },
  {
   "cell_type": "code",
   "execution_count": 9,
   "id": "d3acd6a7-304e-4ca0-84f2-3dfc0cace8f9",
   "metadata": {
    "scrolled": true
   },
   "outputs": [
    {
     "name": "stdout",
     "output_type": "stream",
     "text": [
      "Nematic Order Parameter: 0.08642594516277313\n",
      "Nematic Order Parameter: 0.0836220383644104\n",
      "Nematic Order Parameter: 0.0853794515132904\n",
      "Nematic Order Parameter: 0.08273191750049591\n",
      "Nematic Order Parameter: 0.08209468424320221\n",
      "Nematic Order Parameter: 0.07987803220748901\n",
      "Nematic Order Parameter: 0.07466667145490646\n",
      "Nematic Order Parameter: 0.07692032307386398\n",
      "Nematic Order Parameter: 0.07523279637098312\n",
      "Nematic Order Parameter: 0.07171499729156494\n",
      "Nematic Order Parameter: 0.07252918183803558\n",
      "Nematic Order Parameter: 0.06944981962442398\n",
      "Nematic Order Parameter: 0.06560364365577698\n",
      "Nematic Order Parameter: 0.0650867447257042\n",
      "Nematic Order Parameter: 0.06702188402414322\n",
      "Nematic Order Parameter: 0.06313969939947128\n",
      "Nematic Order Parameter: 0.06042713299393654\n",
      "Nematic Order Parameter: 0.05988726392388344\n",
      "Nematic Order Parameter: 0.06225289776921272\n",
      "Nematic Order Parameter: 0.06281854212284088\n",
      "Nematic Order Parameter: 0.06406977027654648\n",
      "Nematic Order Parameter: 0.058208663016557693\n",
      "Nematic Order Parameter: 0.05987963825464249\n",
      "Nematic Order Parameter: 0.05735025927424431\n",
      "Nematic Order Parameter: 0.056251127272844315\n",
      "Nematic Order Parameter: 0.058475688099861145\n",
      "Nematic Order Parameter: 0.05741406977176666\n",
      "Nematic Order Parameter: 0.059758350253105164\n",
      "Nematic Order Parameter: 0.057452160865068436\n",
      "Nematic Order Parameter: 0.05792943760752678\n",
      "Nematic Order Parameter: 0.058826547116041183\n",
      "Nematic Order Parameter: 0.05585832521319389\n",
      "Nematic Order Parameter: 0.05356534197926521\n",
      "Nematic Order Parameter: 0.05640457198023796\n",
      "Nematic Order Parameter: 0.052543237805366516\n",
      "Nematic Order Parameter: 0.04983377456665039\n",
      "Nematic Order Parameter: 0.05067725479602814\n",
      "Nematic Order Parameter: 0.048795562237501144\n",
      "Nematic Order Parameter: 0.04741706699132919\n",
      "Nematic Order Parameter: 0.05139346420764923\n",
      "Nematic Order Parameter: 0.04912352189421654\n",
      "Nematic Order Parameter: 0.04667596518993378\n",
      "Nematic Order Parameter: 0.04882356896996498\n",
      "Nematic Order Parameter: 0.04461487755179405\n",
      "Nematic Order Parameter: 0.045061416923999786\n",
      "Nematic Order Parameter: 0.04697686806321144\n",
      "Nematic Order Parameter: 0.04349004477262497\n",
      "Nematic Order Parameter: 0.044029831886291504\n",
      "Nematic Order Parameter: 0.04807817563414574\n",
      "Nematic Order Parameter: 0.04581949859857559\n",
      "Nematic Order Parameter: 0.046275608241558075\n",
      "Nematic Order Parameter: 0.04564211890101433\n",
      "Nematic Order Parameter: 0.044785045087337494\n",
      "Nematic Order Parameter: 0.04647891968488693\n",
      "Nematic Order Parameter: 0.045998454093933105\n",
      "Nematic Order Parameter: 0.04462817311286926\n",
      "Nematic Order Parameter: 0.04305728152394295\n",
      "Nematic Order Parameter: 0.04657931625843048\n",
      "Nematic Order Parameter: 0.04453139007091522\n",
      "Nematic Order Parameter: 0.04306399077177048\n",
      "Nematic Order Parameter: 0.04473971202969551\n",
      "Nematic Order Parameter: 0.04240955412387848\n",
      "Nematic Order Parameter: 0.040577370673418045\n",
      "Nematic Order Parameter: 0.04161243513226509\n",
      "Nematic Order Parameter: 0.04120548814535141\n",
      "Nematic Order Parameter: 0.04444289207458496\n",
      "Nematic Order Parameter: 0.04269375279545784\n",
      "Nematic Order Parameter: 0.04600416123867035\n",
      "Nematic Order Parameter: 0.04023541882634163\n",
      "Nematic Order Parameter: 0.03826260194182396\n",
      "Nematic Order Parameter: 0.03466124087572098\n",
      "Nematic Order Parameter: 0.03996632993221283\n",
      "Nematic Order Parameter: 0.04003334045410156\n",
      "Nematic Order Parameter: 0.037667423486709595\n",
      "Nematic Order Parameter: 0.03445989266037941\n",
      "Nematic Order Parameter: 0.03666682541370392\n",
      "Nematic Order Parameter: 0.03788197785615921\n",
      "Nematic Order Parameter: 0.03715980798006058\n",
      "Nematic Order Parameter: 0.03421042487025261\n",
      "Nematic Order Parameter: 0.034834153950214386\n",
      "Nematic Order Parameter: 0.0300179123878479\n",
      "Nematic Order Parameter: 0.031511519104242325\n",
      "Nematic Order Parameter: 0.030164191499352455\n",
      "Nematic Order Parameter: 0.033103086054325104\n",
      "Nematic Order Parameter: 0.03027108684182167\n",
      "Nematic Order Parameter: 0.02737726829946041\n",
      "Nematic Order Parameter: 0.029743466526269913\n",
      "Nematic Order Parameter: 0.0255705825984478\n",
      "Nematic Order Parameter: 0.03194606304168701\n",
      "Nematic Order Parameter: 0.03510146588087082\n",
      "Nematic Order Parameter: 0.03261324390769005\n",
      "Nematic Order Parameter: 0.03135182335972786\n",
      "Nematic Order Parameter: 0.03571891039609909\n",
      "Nematic Order Parameter: 0.037009838968515396\n",
      "Nematic Order Parameter: 0.03739943355321884\n",
      "Nematic Order Parameter: 0.0412856861948967\n",
      "Nematic Order Parameter: 0.03947380185127258\n",
      "Nematic Order Parameter: 0.043380770832300186\n",
      "Nematic Order Parameter: 0.04051951318979263\n",
      "Nematic Order Parameter: 0.03819045051932335\n",
      "Nematic Order Parameter: 0.04240444302558899\n",
      "Time taken: 6.168555099999999 s\n"
     ]
    }
   ],
   "source": [
    "import gsd.hoomd\n",
    "import freud\n",
    "import numpy as np\n",
    "import time\n",
    "\n",
    "# Open the trajectory file\n",
    "traj = gsd.hoomd.open('given-pps-cg.gsd')\n",
    "\n",
    "# Initialize the nematic order parameter calculator\n",
    "nematic = freud.order.Nematic()\n",
    "\n",
    "def nop(frame):\n",
    "    # Get particle positions\n",
    "    positions = frame.particles.position\n",
    "    molecule_ids = frame.bonds.group\n",
    "    vectors = []\n",
    "\n",
    "    for bond in molecule_ids:\n",
    "        # Use the first monomer in the bond group as a reference\n",
    "        ref_pos = positions[bond[0]]\n",
    "        for i in bond[1:]:\n",
    "            vectors.append(positions[i] - ref_pos)\n",
    "    \n",
    "    return np.array(vectors)\n",
    "\n",
    "orders = []\n",
    "frames = []\n",
    "count = 0\n",
    "\n",
    "start = time.process_time()\n",
    "for frame in traj:\n",
    "    count += 1\n",
    "    frames.append(count)\n",
    "    vectors = nop(frame)\n",
    "    if len(vectors) > 0:\n",
    "        nematic.compute(vectors)\n",
    "        orders.append(nematic.order)\n",
    "        print(\"Nematic Order Parameter:\", nematic.order)\n",
    "    else:\n",
    "        orders.append(0)\n",
    "print(\"Time taken:\", time.process_time() - start, \"s\")\n"
   ]
  },
  {
   "cell_type": "code",
   "execution_count": 15,
   "id": "ecabd07d-814b-4bda-b643-20d03ded20a7",
   "metadata": {},
   "outputs": [
    {
     "name": "stdout",
     "output_type": "stream",
     "text": [
      "9400\n",
      "9800\n"
     ]
    }
   ],
   "source": [
    "positions = traj[0].particles.position\n",
    "molecule_ids = traj[0].bonds.group\n",
    "print(len(molecule_ids))\n",
    "print(len(positions))\n",
    "temp = positions[0]\n",
    "vectors = []\n",
    "for i, pos in enumerate(positions):\n",
    "        if i < len(molecule_ids):\n",
    "            vectors.append(np.stack(pos) - np.stack(temp))\n",
    "            temp = pos\n",
    "vectors = np.array(vectors[1:])"
   ]
  },
  {
   "cell_type": "code",
   "execution_count": 10,
   "id": "c8764fad-9eb9-4adb-bd4b-798286612b5e",
   "metadata": {},
   "outputs": [
    {
     "name": "stderr",
     "output_type": "stream",
     "text": [
      "/home/jbieri/miniforge3/envs/flowerMD/lib/python3.11/site-packages/IPython/core/pylabtools.py:77: DeprecationWarning: backend2gui is deprecated since IPython 8.24, backends are managed in matplotlib and can be externally registered.\n",
      "  warnings.warn(\n",
      "/home/jbieri/miniforge3/envs/flowerMD/lib/python3.11/site-packages/IPython/core/pylabtools.py:77: DeprecationWarning: backend2gui is deprecated since IPython 8.24, backends are managed in matplotlib and can be externally registered.\n",
      "  warnings.warn(\n",
      "/home/jbieri/miniforge3/envs/flowerMD/lib/python3.11/site-packages/IPython/core/pylabtools.py:77: DeprecationWarning: backend2gui is deprecated since IPython 8.24, backends are managed in matplotlib and can be externally registered.\n",
      "  warnings.warn(\n"
     ]
    },
    {
     "data": {
      "text/plain": [
       "<matplotlib.collections.PathCollection at 0x7f2745cce350>"
      ]
     },
     "execution_count": 10,
     "metadata": {},
     "output_type": "execute_result"
    },
    {
     "data": {
      "image/png": "[encoded data removed]",
      "text/plain": [
       "<Figure size 640x480 with 1 Axes>"
      ]
     },
     "metadata": {},
     "output_type": "display_data"
    }
   ],
   "source": [
    "plt.scatter(frames, orders)"
   ]
  },
  {
   "cell_type": "code",
   "execution_count": 6,
   "id": "b2517f3e-82d7-43fc-be8d-949966068874",
   "metadata": {},
   "outputs": [],
   "source": [
    "orders = []\n",
    "frames = []\n",
    "for frame in traj:\n",
    "    count += 1\n",
    "    frames.append(count)\n",
    "    positions = frame.particles.position\n",
    "    nematic.compute(positions)\n",
    "    orders.append(nematic.order)\n",
    "    "
   ]
  },
  {
   "cell_type": "code",
   "execution_count": 7,
   "id": "1dbae2f6-394e-43af-8844-f77638ff97b1",
   "metadata": {},
   "outputs": [
    {
     "data": {
      "text/plain": [
       "Text(0, 0.5, 'S2 parameter')"
      ]
     },
     "execution_count": 7,
     "metadata": {},
     "output_type": "execute_result"
    },
    {
     "data": {
      "image/png": "[encoded data removed]",
      "text/plain": [
       "<Figure size 640x480 with 1 Axes>"
      ]
     },
     "metadata": {},
     "output_type": "display_data"
    }
   ],
   "source": [
    "plt.scatter(frames, orders)\n",
    "plt.xlabel(\"Frame\")\n",
    "plt.ylabel(\"S2 parameter\")"
   ]
  },
  {
   "cell_type": "code",
   "execution_count": null,
   "id": "6b1dc43f-30dd-4af1-9bb8-d136030f0493",
   "metadata": {},
   "outputs": [],
   "source": []
  }
 ],
 "metadata": {
  "kernelspec": {
   "display_name": "Python 3 (ipykernel)",
   "language": "python",
   "name": "python3"
  },
  "language_info": {
   "codemirror_mode": {
    "name": "ipython",
    "version": 3
   },
   "file_extension": ".py",
   "mimetype": "text/x-python",
   "name": "python",
   "nbconvert_exporter": "python",
   "pygments_lexer": "ipython3",
   "version": "3.11.0"
  }
 },
 "nbformat": 4,
 "nbformat_minor": 5
}
