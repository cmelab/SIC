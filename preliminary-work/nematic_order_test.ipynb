{
 "cells": [
  {
   "cell_type": "markdown",
   "id": "8ebc510d-2605-4224-a054-68f32caffd0d",
   "metadata": {},
   "source": [
    "## Graph Lattice and Tensile Test examples"
   ]
  },
  {
   "cell_type": "code",
   "execution_count": 1,
   "id": "63c06aaf-6658-4bd6-9fa8-02dd9d937ec0",
   "metadata": {},
   "outputs": [
    {
     "name": "stderr",
     "output_type": "stream",
     "text": [
      "/Users/stephaniemccallum/miniforge3/envs/flowermd/lib/python3.11/site-packages/mdtraj/formats/__init__.py:13: DeprecationWarning: 'xdrlib' is deprecated and slated for removal in Python 3.13\n",
      "  from mdtraj.formats.trr import TRRTrajectoryFile\n"
     ]
    },
    {
     "name": "stdout",
     "output_type": "stream",
     "text": [
      "\n",
      "Support for writing out LAMMPS data files will be removed\n",
      "in mbuild 1.0.\n",
      "See GMSO (https://github.com/mosdef-hub/gmso/tree/main/gmso/formats/lammpsdata) for\n",
      "continued support for LAMMPS.\n",
      "\n"
     ]
    },
    {
     "ename": "TypeError",
     "evalue": "'float' object is not callable",
     "output_type": "error",
     "traceback": [
      "\u001b[0;31m---------------------------------------------------------------------------\u001b[0m",
      "\u001b[0;31mTypeError\u001b[0m                                 Traceback (most recent call last)",
      "Cell \u001b[0;32mIn[1], line 6\u001b[0m\n\u001b[1;32m      3\u001b[0m \u001b[38;5;28;01mimport\u001b[39;00m \u001b[38;5;21;01mnumpy\u001b[39;00m \u001b[38;5;28;01mas\u001b[39;00m \u001b[38;5;21;01mnp\u001b[39;00m\n\u001b[1;32m      5\u001b[0m director \u001b[38;5;241m=\u001b[39m np\u001b[38;5;241m.\u001b[39marray([\u001b[38;5;241m0\u001b[39m,\u001b[38;5;241m0\u001b[39m,\u001b[38;5;241m1\u001b[39m])\n\u001b[0;32m----> 6\u001b[0m lattice_orders \u001b[38;5;241m=\u001b[39m \u001b[43mnematic_order\u001b[49m\u001b[43m(\u001b[49m\u001b[38;5;124;43m\"\u001b[39;49m\u001b[38;5;124;43mlattice-cg.gsd\u001b[39;49m\u001b[38;5;124;43m\"\u001b[39;49m\u001b[43m,\u001b[49m\u001b[43mdirector\u001b[49m\u001b[43m)\u001b[49m\n\u001b[1;32m      7\u001b[0m plt\u001b[38;5;241m.\u001b[39mscatter(\u001b[38;5;28mrange\u001b[39m(\u001b[38;5;28mlen\u001b[39m(lattice_orders)),lattice_orders)\n\u001b[1;32m      8\u001b[0m plt\u001b[38;5;241m.\u001b[39mxlabel(\u001b[38;5;124m\"\u001b[39m\u001b[38;5;124mFrame\u001b[39m\u001b[38;5;124m\"\u001b[39m)\n",
      "File \u001b[0;32m~/Desktop/cmelab/base/SIC/preliminary-work/nematic_order.py:39\u001b[0m, in \u001b[0;36mnematic_order\u001b[0;34m(gsd_file, director, start, stop, stride)\u001b[0m\n\u001b[1;32m     37\u001b[0m     bond_vectors\u001b[38;5;241m.\u001b[39mappend(vec)\n\u001b[1;32m     38\u001b[0m nematic\u001b[38;5;241m.\u001b[39mcompute(np\u001b[38;5;241m.\u001b[39marray(bond_vectors))\u001b[38;5;66;03m#computing nematic order for each frame\u001b[39;00m\n\u001b[0;32m---> 39\u001b[0m nm_orders\u001b[38;5;241m.\u001b[39mappend(\u001b[43mnematic\u001b[49m\u001b[38;5;241;43m.\u001b[39;49m\u001b[43morder\u001b[49m\u001b[43m(\u001b[49m\u001b[43mdirector\u001b[49m\u001b[43m)\u001b[49m)\n\u001b[1;32m     40\u001b[0m \u001b[38;5;28mprint\u001b[39m(nematic\u001b[38;5;241m.\u001b[39mdirector)\n\u001b[1;32m     41\u001b[0m directors\u001b[38;5;241m.\u001b[39mappend(nematic\u001b[38;5;241m.\u001b[39mdirector)\n",
      "\u001b[0;31mTypeError\u001b[0m: 'float' object is not callable"
     ]
    }
   ],
   "source": [
    "from nematic_order import nematic_order\n",
    "import matplotlib.pyplot as plt\n",
    "import numpy as np\n",
    "\n",
    "lattice_orders,director = nematic_order(\"lattice-cg.gsd\",director)\n",
    "plt.scatter(range(len(lattice_orders)),lattice_orders)\n",
    "plt.xlabel(\"Frame\")\n",
    "plt.ylabel(\"S2 parameter\")"
   ]
  },
  {
   "cell_type": "markdown",
   "id": "1b5ce6e7-ba05-4b4e-a27a-73937cc652db",
   "metadata": {},
   "source": [
    "## Show how to manipulate nematic order vector"
   ]
  },
  {
   "cell_type": "markdown",
   "id": "04ba9e5d-4802-4ac5-b40f-75848a8dd209",
   "metadata": {},
   "source": [
    "## Show that bond vectors in opposite directions have the same nematic order"
   ]
  },
  {
   "cell_type": "code",
   "execution_count": 4,
   "id": "fdb96110-845e-4e5a-ad4b-ca1b1c7c9333",
   "metadata": {},
   "outputs": [
    {
     "name": "stdout",
     "output_type": "stream",
     "text": [
      "0.9999992847442627\n"
     ]
    }
   ],
   "source": [
    "print(lattice_orders[0])"
   ]
  },
  {
   "cell_type": "code",
   "execution_count": null,
   "id": "10f8fc5c-3b48-4d9e-9c68-4d1cce1ed912",
   "metadata": {},
   "outputs": [],
   "source": []
  }
 ],
 "metadata": {
  "kernelspec": {
   "display_name": "Python 3 (ipykernel)",
   "language": "python",
   "name": "python3"
  },
  "language_info": {
   "codemirror_mode": {
    "name": "ipython",
    "version": 3
   },
   "file_extension": ".py",
   "mimetype": "text/x-python",
   "name": "python",
   "nbconvert_exporter": "python",
   "pygments_lexer": "ipython3",
   "version": "3.11.0"
  }
 },
 "nbformat": 4,
 "nbformat_minor": 5
}
