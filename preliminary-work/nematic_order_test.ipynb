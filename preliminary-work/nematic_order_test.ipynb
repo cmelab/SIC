{
 "cells": [
  {
   "cell_type": "markdown",
   "id": "8ebc510d-2605-4224-a054-68f32caffd0d",
   "metadata": {},
   "source": [
    "## Graph Lattice and Tensile Test examples"
   ]
  },
  {
   "cell_type": "code",
   "execution_count": null,
   "id": "63c06aaf-6658-4bd6-9fa8-02dd9d937ec0",
   "metadata": {},
   "outputs": [],
   "source": [
    "import matplotlib.pyplot as plt\n",
    "plt.scatter(range(len(nm_orders)),nm_orders)\n",
    "plt.xlabel(\"Frame\")\n",
    "plt.ylabel(\"S2 parameter\")"
   ]
  },
  {
   "cell_type": "markdown",
   "id": "1b5ce6e7-ba05-4b4e-a27a-73937cc652db",
   "metadata": {},
   "source": [
    "## Show how to manipulate nematic order vector"
   ]
  },
  {
   "cell_type": "markdown",
   "id": "04ba9e5d-4802-4ac5-b40f-75848a8dd209",
   "metadata": {},
   "source": [
    "## Show that bond vectors in opposite directions have the same nematic order"
   ]
  },
  {
   "cell_type": "code",
   "execution_count": null,
   "id": "fdb96110-845e-4e5a-ad4b-ca1b1c7c9333",
   "metadata": {},
   "outputs": [],
   "source": []
  }
 ],
 "metadata": {
  "kernelspec": {
   "display_name": "Python 3 (ipykernel)",
   "language": "python",
   "name": "python3"
  },
  "language_info": {
   "codemirror_mode": {
    "name": "ipython",
    "version": 3
   },
   "file_extension": ".py",
   "mimetype": "text/x-python",
   "name": "python",
   "nbconvert_exporter": "python",
   "pygments_lexer": "ipython3",
   "version": "3.11.0"
  }
 },
 "nbformat": 4,
 "nbformat_minor": 5
}
