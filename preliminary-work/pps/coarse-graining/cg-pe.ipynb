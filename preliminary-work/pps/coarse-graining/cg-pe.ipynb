{
 "cells": [
  {
   "cell_type": "code",
   "execution_count": 2,
   "id": "cde8fe9d-0e6c-48bd-82e2-be684edba532",
   "metadata": {},
   "outputs": [
    {
     "name": "stderr",
     "output_type": "stream",
     "text": [
      "/home/jbieri/miniforge3/envs/grits/lib/python3.12/site-packages/mdtraj/formats/__init__.py:13: DeprecationWarning: 'xdrlib' is deprecated and slated for removal in Python 3.13\n",
      "  from mdtraj.formats.trr import TRRTrajectoryFile\n",
      "/home/jbieri/miniforge3/envs/grits/lib/python3.12/site-packages/foyer/forcefield.py:33: DeprecationWarning: pkg_resources is deprecated as an API. See https://setuptools.pypa.io/en/latest/pkg_resources.html\n",
      "  from pkg_resources import iter_entry_points, resource_filename\n",
      "/home/jbieri/miniforge3/envs/grits/lib/python3.12/site-packages/pkg_resources/__init__.py:3144: DeprecationWarning: Deprecated call to `pkg_resources.declare_namespace('google')`.\n",
      "Implementing implicit namespace packages (as specified in PEP 420) is preferred to `pkg_resources.declare_namespace`. See https://setuptools.pypa.io/en/latest/references/keywords.html#keyword-namespace-packages\n",
      "  declare_namespace(pkg)\n",
      "/home/jbieri/miniforge3/envs/grits/lib/python3.12/site-packages/lark/utils.py:163: DeprecationWarning: module 'sre_parse' is deprecated\n",
      "  import sre_parse\n",
      "/home/jbieri/miniforge3/envs/grits/lib/python3.12/site-packages/lark/utils.py:164: DeprecationWarning: module 'sre_constants' is deprecated\n",
      "  import sre_constants\n",
      "/home/jbieri/miniforge3/envs/grits/lib/python3.12/site-packages/mbuild/packing.py:23: DeprecationWarning: Use shutil.which instead of find_executable\n",
      "  PACKMOL = find_executable(\"packmol\")\n"
     ]
    }
   ],
   "source": [
    "import numpy as np\n",
    "import mbuild as mb\n",
    "\n",
    "from grits import CG_System\n",
    "from grits.utils import amber_dict"
   ]
  },
  {
   "cell_type": "code",
   "execution_count": 11,
   "id": "f658fb53-c858-485f-9df1-58776093a5d1",
   "metadata": {},
   "outputs": [
    {
     "data": {
      "application/3dmoljs_load.v0": "<div id=\"3dmolviewer_17259837721064947\"  style=\"position: relative; width: 640px; height: 480px;\">\n        <p id=\"3dmolwarning_17259837721064947\" style=\"background-color:#ffcccc;color:black\">3Dmol.js failed to load for some reason.  Please check your browser console for error messages.<br></p>\n        </div>\n<script>\n\nvar loadScriptAsync = function(uri){\n  return new Promise((resolve, reject) => {\n    //this is to ignore the existence of requirejs amd\n    var savedexports, savedmodule;\n    if (typeof exports !== 'undefined') savedexports = exports;\n    else exports = {}\n    if (typeof module !== 'undefined') savedmodule = module;\n    else module = {}\n\n    var tag = document.createElement('script');\n    tag.src = uri;\n    tag.async = true;\n    tag.onload = () => {\n        exports = savedexports;\n        module = savedmodule;\n        resolve();\n    };\n  var firstScriptTag = document.getElementsByTagName('script')[0];\n  firstScriptTag.parentNode.insertBefore(tag, firstScriptTag);\n});\n};\n\nif(typeof $3Dmolpromise === 'undefined') {\n$3Dmolpromise = null;\n  $3Dmolpromise = loadScriptAsync('https://cdnjs.cloudflare.com/ajax/libs/3Dmol/2.3.0/3Dmol-min.js');\n}\n\nvar viewer_17259837721064947 = null;\nvar warn = document.getElementById(\"3dmolwarning_17259837721064947\");\nif(warn) {\n    warn.parentNode.removeChild(warn);\n}\n$3Dmolpromise.then(function() {\nviewer_17259837721064947 = $3Dmol.createViewer(document.getElementById(\"3dmolviewer_17259837721064947\"),{backgroundColor:\"white\"});\nviewer_17259837721064947.zoomTo();\n\tviewer_17259837721064947.addModel(\"@<TRIPOS>MOLECULE\\nRES\\n6 5 1 0 1\\nSMALL\\nNO_CHARGES\\n@<TRIPOS>CRYSIN\\n    7.7018     6.0437     6.5853    90.0000    90.0000    90.0000 1 1\\n@<TRIPOS>ATOM\\n       1 C            0.7358    -0.3104     0.1575 C             1 RES     \\n       2 C           -0.7364    -0.2795    -0.2050 C             1 RES     \\n       3 H            0.9829     0.5454     0.8204 H             1 RES     \\n       4 H            1.3506    -0.2556    -0.7649 H             1 RES     \\n       5 H           -0.9815     0.6720    -0.7223 H             1 RES     \\n       6 H           -1.3513    -0.3717     0.7143 H             1 RES     \\n@<TRIPOS>BOND\\n       1        1        2 1\\n       2        1        3 1\\n       3        1        4 1\\n       4        2        5 1\\n       5        2        6 1\\n@<TRIPOS>SUBSTRUCTURE\\n       1 RES             1 RESIDUE    0 **** ROOT      0\\n\",\"mol2\");\n\tviewer_17259837721064947.setStyle({\"stick\": {\"radius\": 0.18, \"color\": \"grey\"}, \"sphere\": {\"scale\": 0.3, \"colorscheme\": {}}});\n\tviewer_17259837721064947.zoomTo();\nviewer_17259837721064947.render();\n});\n</script>",
      "text/html": [
       "<div id=\"3dmolviewer_17259837721064947\"  style=\"position: relative; width: 640px; height: 480px;\">\n",
       "        <p id=\"3dmolwarning_17259837721064947\" style=\"background-color:#ffcccc;color:black\">3Dmol.js failed to load for some reason.  Please check your browser console for error messages.<br></p>\n",
       "        </div>\n",
       "<script>\n",
       "\n",
       "var loadScriptAsync = function(uri){\n",
       "  return new Promise((resolve, reject) => {\n",
       "    //this is to ignore the existence of requirejs amd\n",
       "    var savedexports, savedmodule;\n",
       "    if (typeof exports !== 'undefined') savedexports = exports;\n",
       "    else exports = {}\n",
       "    if (typeof module !== 'undefined') savedmodule = module;\n",
       "    else module = {}\n",
       "\n",
       "    var tag = document.createElement('script');\n",
       "    tag.src = uri;\n",
       "    tag.async = true;\n",
       "    tag.onload = () => {\n",
       "        exports = savedexports;\n",
       "        module = savedmodule;\n",
       "        resolve();\n",
       "    };\n",
       "  var firstScriptTag = document.getElementsByTagName('script')[0];\n",
       "  firstScriptTag.parentNode.insertBefore(tag, firstScriptTag);\n",
       "});\n",
       "};\n",
       "\n",
       "if(typeof $3Dmolpromise === 'undefined') {\n",
       "$3Dmolpromise = null;\n",
       "  $3Dmolpromise = loadScriptAsync('https://cdnjs.cloudflare.com/ajax/libs/3Dmol/2.3.0/3Dmol-min.js');\n",
       "}\n",
       "\n",
       "var viewer_17259837721064947 = null;\n",
       "var warn = document.getElementById(\"3dmolwarning_17259837721064947\");\n",
       "if(warn) {\n",
       "    warn.parentNode.removeChild(warn);\n",
       "}\n",
       "$3Dmolpromise.then(function() {\n",
       "viewer_17259837721064947 = $3Dmol.createViewer(document.getElementById(\"3dmolviewer_17259837721064947\"),{backgroundColor:\"white\"});\n",
       "viewer_17259837721064947.zoomTo();\n",
       "\tviewer_17259837721064947.addModel(\"@<TRIPOS>MOLECULE\\nRES\\n6 5 1 0 1\\nSMALL\\nNO_CHARGES\\n@<TRIPOS>CRYSIN\\n    7.7018     6.0437     6.5853    90.0000    90.0000    90.0000 1 1\\n@<TRIPOS>ATOM\\n       1 C            0.7358    -0.3104     0.1575 C             1 RES     \\n       2 C           -0.7364    -0.2795    -0.2050 C             1 RES     \\n       3 H            0.9829     0.5454     0.8204 H             1 RES     \\n       4 H            1.3506    -0.2556    -0.7649 H             1 RES     \\n       5 H           -0.9815     0.6720    -0.7223 H             1 RES     \\n       6 H           -1.3513    -0.3717     0.7143 H             1 RES     \\n@<TRIPOS>BOND\\n       1        1        2 1\\n       2        1        3 1\\n       3        1        4 1\\n       4        2        5 1\\n       5        2        6 1\\n@<TRIPOS>SUBSTRUCTURE\\n       1 RES             1 RESIDUE    0 **** ROOT      0\\n\",\"mol2\");\n",
       "\tviewer_17259837721064947.setStyle({\"stick\": {\"radius\": 0.18, \"color\": \"grey\"}, \"sphere\": {\"scale\": 0.3, \"colorscheme\": {}}});\n",
       "\tviewer_17259837721064947.zoomTo();\n",
       "viewer_17259837721064947.render();\n",
       "});\n",
       "</script>"
      ]
     },
     "metadata": {},
     "output_type": "display_data"
    }
   ],
   "source": [
    "pe = \"[CH2][CH2]\"\n",
    "a = mb.load(pe, smiles=True)\n",
    "a.visualize().show()\n"
   ]
  },
  {
   "cell_type": "code",
   "execution_count": 12,
   "id": "27694ce4-6825-4573-8e2d-9fa7ca381d3c",
   "metadata": {},
   "outputs": [
    {
     "ename": "KeyError",
     "evalue": "'opls_135'",
     "output_type": "error",
     "traceback": [
      "\u001b[0;31m---------------------------------------------------------------------------\u001b[0m",
      "\u001b[0;31mKeyError\u001b[0m                                  Traceback (most recent call last)",
      "Cell \u001b[0;32mIn[12], line 2\u001b[0m\n\u001b[1;32m      1\u001b[0m gsdfile \u001b[38;5;241m=\u001b[39m \u001b[38;5;124m\"\u001b[39m\u001b[38;5;124m/home/jbieri/CME_lab/projects/SIC/preliminary-work/pe/pe-tensile.gsd\u001b[39m\u001b[38;5;124m\"\u001b[39m\n\u001b[0;32m----> 2\u001b[0m system \u001b[38;5;241m=\u001b[39m \u001b[43mCG_System\u001b[49m\u001b[43m(\u001b[49m\n\u001b[1;32m      3\u001b[0m \u001b[43m    \u001b[49m\u001b[43mgsdfile\u001b[49m\u001b[43m,\u001b[49m\u001b[43m \u001b[49m\n\u001b[1;32m      4\u001b[0m \u001b[43m    \u001b[49m\u001b[43mbeads\u001b[49m\u001b[38;5;241;43m=\u001b[39;49m\u001b[43m{\u001b[49m\u001b[38;5;124;43m\"\u001b[39;49m\u001b[38;5;124;43m_A\u001b[39;49m\u001b[38;5;124;43m\"\u001b[39;49m\u001b[43m:\u001b[49m\u001b[43m \u001b[49m\u001b[43mpe\u001b[49m\u001b[43m}\u001b[49m\u001b[43m,\u001b[49m\u001b[43m \u001b[49m\n\u001b[1;32m      5\u001b[0m \u001b[43m    \u001b[49m\u001b[43mconversion_dict\u001b[49m\u001b[38;5;241;43m=\u001b[39;49m\u001b[43mamber_dict\u001b[49m\n\u001b[1;32m      6\u001b[0m \u001b[43m)\u001b[49m\n",
      "File \u001b[0;32m~/miniforge3/envs/grits/lib/python3.12/site-packages/grits/coarsegrain.py:539\u001b[0m, in \u001b[0;36mCG_System.__init__\u001b[0;34m(self, gsdfile, beads, mapping, allow_overlap, conversion_dict, length_scale, mass_scale, add_hydrogens, aniso_beads)\u001b[0m\n\u001b[1;32m    535\u001b[0m \u001b[38;5;28mself\u001b[39m\u001b[38;5;241m.\u001b[39mmass_scale \u001b[38;5;241m=\u001b[39m mass_scale\n\u001b[1;32m    537\u001b[0m \u001b[38;5;28;01mif\u001b[39;00m beads \u001b[38;5;129;01mis\u001b[39;00m \u001b[38;5;129;01mnot\u001b[39;00m \u001b[38;5;28;01mNone\u001b[39;00m:\n\u001b[1;32m    538\u001b[0m     \u001b[38;5;66;03m# get compounds\u001b[39;00m\n\u001b[0;32m--> 539\u001b[0m     \u001b[38;5;28;43mself\u001b[39;49m\u001b[38;5;241;43m.\u001b[39;49m\u001b[43m_get_compounds\u001b[49m\u001b[43m(\u001b[49m\n\u001b[1;32m    540\u001b[0m \u001b[43m        \u001b[49m\u001b[43mbeads\u001b[49m\u001b[38;5;241;43m=\u001b[39;49m\u001b[43mbeads\u001b[49m\u001b[43m,\u001b[49m\n\u001b[1;32m    541\u001b[0m \u001b[43m        \u001b[49m\u001b[43mallow_overlap\u001b[49m\u001b[38;5;241;43m=\u001b[39;49m\u001b[43mallow_overlap\u001b[49m\u001b[43m,\u001b[49m\n\u001b[1;32m    542\u001b[0m \u001b[43m        \u001b[49m\u001b[43mlength_scale\u001b[49m\u001b[38;5;241;43m=\u001b[39;49m\u001b[43mlength_scale\u001b[49m\u001b[43m,\u001b[49m\n\u001b[1;32m    543\u001b[0m \u001b[43m        \u001b[49m\u001b[43mconversion_dict\u001b[49m\u001b[38;5;241;43m=\u001b[39;49m\u001b[43mconversion_dict\u001b[49m\u001b[43m,\u001b[49m\n\u001b[1;32m    544\u001b[0m \u001b[43m        \u001b[49m\u001b[43madd_hydrogens\u001b[49m\u001b[38;5;241;43m=\u001b[39;49m\u001b[43madd_hydrogens\u001b[49m\u001b[43m,\u001b[49m\n\u001b[1;32m    545\u001b[0m \u001b[43m        \u001b[49m\u001b[43maniso_beads\u001b[49m\u001b[38;5;241;43m=\u001b[39;49m\u001b[43maniso_beads\u001b[49m\u001b[43m,\u001b[49m\n\u001b[1;32m    546\u001b[0m \u001b[43m    \u001b[49m\u001b[43m)\u001b[49m\n\u001b[1;32m    548\u001b[0m     \u001b[38;5;66;03m# calculate the bead mappings for the entire trajectory\u001b[39;00m\n\u001b[1;32m    549\u001b[0m     \u001b[38;5;28mself\u001b[39m\u001b[38;5;241m.\u001b[39m_set_mapping()\n",
      "File \u001b[0;32m~/miniforge3/envs/grits/lib/python3.12/site-packages/grits/coarsegrain.py:573\u001b[0m, in \u001b[0;36mCG_System._get_compounds\u001b[0;34m(self, beads, allow_overlap, length_scale, conversion_dict, add_hydrogens, aniso_beads)\u001b[0m\n\u001b[1;32m    570\u001b[0m \u001b[38;5;66;03m# Use the conversion dictionary to map particle type to element symbol\u001b[39;00m\n\u001b[1;32m    571\u001b[0m \u001b[38;5;28;01mif\u001b[39;00m conversion_dict \u001b[38;5;129;01mis\u001b[39;00m \u001b[38;5;129;01mnot\u001b[39;00m \u001b[38;5;28;01mNone\u001b[39;00m:\n\u001b[1;32m    572\u001b[0m     snap\u001b[38;5;241m.\u001b[39mparticles\u001b[38;5;241m.\u001b[39mtypes \u001b[38;5;241m=\u001b[39m [\n\u001b[0;32m--> 573\u001b[0m         \u001b[43mconversion_dict\u001b[49m\u001b[43m[\u001b[49m\u001b[43mi\u001b[49m\u001b[43m]\u001b[49m\u001b[38;5;241m.\u001b[39msymbol \u001b[38;5;28;01mfor\u001b[39;00m i \u001b[38;5;129;01min\u001b[39;00m snap\u001b[38;5;241m.\u001b[39mparticles\u001b[38;5;241m.\u001b[39mtypes\n\u001b[1;32m    574\u001b[0m     ]\n\u001b[1;32m    575\u001b[0m \u001b[38;5;66;03m# Break apart the snapshot into separate molecules\u001b[39;00m\n\u001b[1;32m    576\u001b[0m molecules \u001b[38;5;241m=\u001b[39m get_molecule_cluster(snap\u001b[38;5;241m=\u001b[39msnap)\n",
      "\u001b[0;31mKeyError\u001b[0m: 'opls_135'"
     ]
    }
   ],
   "source": [
    "gsdfile = \"/home/jbieri/CME_lab/projects/SIC/preliminary-work/pe/pe-tensile.gsd\"\n",
    "system = CG_System(\n",
    "    gsdfile, \n",
    "    beads={\"_A\": pe}, \n",
    "    conversion_dict=amber_dict\n",
    ")"
   ]
  },
  {
   "cell_type": "code",
   "execution_count": 5,
   "id": "70849acb-0dda-422a-a715-bbda771cd553",
   "metadata": {},
   "outputs": [
    {
     "name": "stderr",
     "output_type": "stream",
     "text": [
      "/home/jbieri/miniforge3/envs/grits/lib/python3.12/site-packages/gsd/hoomd.py:836: DeprecationWarning: The truth value of an empty array is ambiguous. Returning False, but in future this will result in an error. Use `array.size > 0` to check that an array is not empty.\n",
      "  if matches_default_value and not self._chunk_exists_frame_0.get(\n"
     ]
    }
   ],
   "source": [
    "cg_gsd = \"slab-pps-cg.gsd\"\n",
    "system.save(cg_gsd)"
   ]
  },
  {
   "cell_type": "code",
   "execution_count": null,
   "id": "bfe2de08-890f-4216-a34a-ae73e1a9c517",
   "metadata": {},
   "outputs": [],
   "source": []
  }
 ],
 "metadata": {
  "kernelspec": {
   "display_name": "Python 3 (ipykernel)",
   "language": "python",
   "name": "python3"
  },
  "language_info": {
   "codemirror_mode": {
    "name": "ipython",
    "version": 3
   },
   "file_extension": ".py",
   "mimetype": "text/x-python",
   "name": "python",
   "nbconvert_exporter": "python",
   "pygments_lexer": "ipython3",
   "version": "3.12.0"
  }
 },
 "nbformat": 4,
 "nbformat_minor": 5
}
