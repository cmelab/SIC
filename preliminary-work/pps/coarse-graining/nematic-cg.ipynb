{
 "cells": [
  {
   "cell_type": "code",
   "execution_count": 1,
   "id": "6c4dbcea-6d81-4de4-9b6b-0391b2062486",
   "metadata": {},
   "outputs": [
    {
     "name": "stderr",
     "output_type": "stream",
     "text": [
      "/home/jbieri/miniforge3/envs/flowerMD/lib/python3.11/site-packages/mdtraj/formats/__init__.py:13: DeprecationWarning: 'xdrlib' is deprecated and slated for removal in Python 3.13\n",
      "  from mdtraj.formats.trr import TRRTrajectoryFile\n"
     ]
    }
   ],
   "source": [
    "import flowermd\n",
    "import hoomd\n",
    "from flowermd.library import PolyEthylene, OPLS_AA\n",
    "from flowermd import Pack\n",
    "from flowermd.base import Simulation\n",
    "from cmeutils.visualize import FresnelGSD\n",
    "import gsd\n",
    "import matplotlib.pyplot as plt\n",
    "import numpy as np\n",
    "from flowermd.utils import get_target_box_mass_density\n",
    "import freud\n",
    "import matplotlib.pyplot as plt"
   ]
  },
  {
   "cell_type": "code",
   "execution_count": 4,
   "id": "1d73a605-9b7e-40d9-8b26-e9e365278315",
   "metadata": {},
   "outputs": [],
   "source": [
    "traj = gsd.hoomd.open('given-pps-cg.gsd')"
   ]
  },
  {
   "cell_type": "code",
   "execution_count": 5,
   "id": "e225a425-2b5e-448d-93ed-097629c8a64d",
   "metadata": {},
   "outputs": [],
   "source": [
    "def nop(frame):\n",
    "    positions = frame.particles.position\n",
    "    molecule_ids = frame.bonds.group\n",
    "    temp = positions[0]\n",
    "    vectors = []\n",
    "    for i, pos in enumerate(positions):\n",
    "            if i < len(molecule_ids):\n",
    "                vectors.append(np.stack(pos) - np.stack(temp))\n",
    "                temp = pos\n",
    "    vectors = np.array(vectors[1:])\n",
    "    return vectors"
   ]
  },
  {
   "cell_type": "code",
   "execution_count": 6,
   "id": "e6134c03-643c-4747-b86c-d950974d2eb7",
   "metadata": {
    "scrolled": true
   },
   "outputs": [
    {
     "name": "stdout",
     "output_type": "stream",
     "text": [
      "Nematic Order Parameter: 0.08366383612155914\n",
      "Nematic Order Parameter: 0.08125424385070801\n",
      "Nematic Order Parameter: 0.0834449902176857\n",
      "Nematic Order Parameter: 0.07996775209903717\n",
      "Nematic Order Parameter: 0.07861025631427765\n",
      "Nematic Order Parameter: 0.07698452472686768\n",
      "Nematic Order Parameter: 0.07232202589511871\n",
      "Nematic Order Parameter: 0.07394229620695114\n",
      "Nematic Order Parameter: 0.07208936661481857\n",
      "Nematic Order Parameter: 0.06853336095809937\n",
      "Nematic Order Parameter: 0.06938223540782928\n",
      "Nematic Order Parameter: 0.06591778248548508\n",
      "Nematic Order Parameter: 0.061639755964279175\n",
      "Nematic Order Parameter: 0.06113795191049576\n",
      "Nematic Order Parameter: 0.06189384683966637\n",
      "Nematic Order Parameter: 0.05890277773141861\n",
      "Nematic Order Parameter: 0.05628735572099686\n",
      "Nematic Order Parameter: 0.05582909658551216\n",
      "Nematic Order Parameter: 0.057618219405412674\n",
      "Nematic Order Parameter: 0.057933591306209564\n",
      "Nematic Order Parameter: 0.06021535396575928\n",
      "Nematic Order Parameter: 0.05508735403418541\n",
      "Nematic Order Parameter: 0.05589580908417702\n",
      "Nematic Order Parameter: 0.052868980914354324\n",
      "Nematic Order Parameter: 0.05258524417877197\n",
      "Nematic Order Parameter: 0.05394287407398224\n",
      "Nematic Order Parameter: 0.052481766790151596\n",
      "Nematic Order Parameter: 0.055645741522312164\n",
      "Nematic Order Parameter: 0.05359070003032684\n",
      "Nematic Order Parameter: 0.05317597836256027\n",
      "Nematic Order Parameter: 0.05460461601614952\n",
      "Nematic Order Parameter: 0.05223905295133591\n",
      "Nematic Order Parameter: 0.048771753907203674\n",
      "Nematic Order Parameter: 0.05178557708859444\n",
      "Nematic Order Parameter: 0.049174197018146515\n",
      "Nematic Order Parameter: 0.04610549658536911\n",
      "Nematic Order Parameter: 0.04651500657200813\n",
      "Nematic Order Parameter: 0.04476381465792656\n",
      "Nematic Order Parameter: 0.04367365688085556\n",
      "Nematic Order Parameter: 0.046563129872083664\n",
      "Nematic Order Parameter: 0.045293401926755905\n",
      "Nematic Order Parameter: 0.042638812214136124\n",
      "Nematic Order Parameter: 0.045033495873212814\n",
      "Nematic Order Parameter: 0.04054763913154602\n",
      "Nematic Order Parameter: 0.04068813472986221\n",
      "Nematic Order Parameter: 0.04290491342544556\n",
      "Nematic Order Parameter: 0.03948395326733589\n",
      "Nematic Order Parameter: 0.040017977356910706\n",
      "Nematic Order Parameter: 0.04310951381921768\n",
      "Nematic Order Parameter: 0.042097870260477066\n",
      "Nematic Order Parameter: 0.0413985550403595\n",
      "Nematic Order Parameter: 0.040735673159360886\n",
      "Nematic Order Parameter: 0.039279766380786896\n",
      "Nematic Order Parameter: 0.04083629325032234\n",
      "Nematic Order Parameter: 0.040362339466810226\n",
      "Nematic Order Parameter: 0.039624035358428955\n",
      "Nematic Order Parameter: 0.03646678104996681\n",
      "Nematic Order Parameter: 0.041340213268995285\n",
      "Nematic Order Parameter: 0.038478825241327286\n",
      "Nematic Order Parameter: 0.03803577274084091\n",
      "Nematic Order Parameter: 0.038312431424856186\n",
      "Nematic Order Parameter: 0.036403000354766846\n",
      "Nematic Order Parameter: 0.03451939672231674\n",
      "Nematic Order Parameter: 0.03541029617190361\n",
      "Nematic Order Parameter: 0.034856557846069336\n",
      "Nematic Order Parameter: 0.037011951208114624\n",
      "Nematic Order Parameter: 0.0357440784573555\n",
      "Nematic Order Parameter: 0.03949113190174103\n",
      "Nematic Order Parameter: 0.03312604874372482\n",
      "Nematic Order Parameter: 0.03148793801665306\n",
      "Nematic Order Parameter: 0.02851521410048008\n",
      "Nematic Order Parameter: 0.03294766694307327\n",
      "Nematic Order Parameter: 0.03326829522848129\n",
      "Nematic Order Parameter: 0.030869657173752785\n",
      "Nematic Order Parameter: 0.02763684280216694\n",
      "Nematic Order Parameter: 0.029338130727410316\n",
      "Nematic Order Parameter: 0.030322983860969543\n",
      "Nematic Order Parameter: 0.029761571437120438\n",
      "Nematic Order Parameter: 0.02731253206729889\n",
      "Nematic Order Parameter: 0.027603670954704285\n",
      "Nematic Order Parameter: 0.02510138601064682\n",
      "Nematic Order Parameter: 0.023664744570851326\n",
      "Nematic Order Parameter: 0.02355654537677765\n",
      "Nematic Order Parameter: 0.025671489536762238\n",
      "Nematic Order Parameter: 0.025182511657476425\n",
      "Nematic Order Parameter: 0.022922145202755928\n",
      "Nematic Order Parameter: 0.023236798122525215\n",
      "Nematic Order Parameter: 0.021704696118831635\n",
      "Nematic Order Parameter: 0.02499449998140335\n",
      "Nematic Order Parameter: 0.027040960267186165\n",
      "Nematic Order Parameter: 0.025395235046744347\n",
      "Nematic Order Parameter: 0.02521616965532303\n",
      "Nematic Order Parameter: 0.027271870523691177\n",
      "Nematic Order Parameter: 0.028187433257699013\n",
      "Nematic Order Parameter: 0.03088025562465191\n",
      "Nematic Order Parameter: 0.03260650485754013\n",
      "Nematic Order Parameter: 0.03135150671005249\n",
      "Nematic Order Parameter: 0.03604285046458244\n",
      "Nematic Order Parameter: 0.03265394642949104\n",
      "Nematic Order Parameter: 0.030975814908742905\n",
      "Nematic Order Parameter: 0.034509070217609406\n",
      "Time taken: 27.9193651 s\n"
     ]
    }
   ],
   "source": [
    "nematic = freud.order.Nematic()\n",
    "import time\n",
    "start = time.process_time()\n",
    "orders = []\n",
    "frames = []\n",
    "count = 0\n",
    "for frame in traj:\n",
    "    count += 1\n",
    "    frames.append(count)\n",
    "    nematic.compute(nop(frame))\n",
    "    orders.append(nematic.order)\n",
    "    print(\"Nematic Order Parameter:\", nematic.order)\n",
    "print(\"Time taken:\", time.process_time() - start, \"s\")"
   ]
  },
  {
   "cell_type": "code",
   "execution_count": 7,
   "id": "3618908c-0b06-45de-9209-2f13c33fac75",
   "metadata": {
    "scrolled": true
   },
   "outputs": [
    {
     "name": "stderr",
     "output_type": "stream",
     "text": [
      "/home/jbieri/miniforge3/envs/flowerMD/lib/python3.11/site-packages/IPython/core/pylabtools.py:77: DeprecationWarning: backend2gui is deprecated since IPython 8.24, backends are managed in matplotlib and can be externally registered.\n",
      "  warnings.warn(\n",
      "/home/jbieri/miniforge3/envs/flowerMD/lib/python3.11/site-packages/IPython/core/pylabtools.py:77: DeprecationWarning: backend2gui is deprecated since IPython 8.24, backends are managed in matplotlib and can be externally registered.\n",
      "  warnings.warn(\n",
      "/home/jbieri/miniforge3/envs/flowerMD/lib/python3.11/site-packages/IPython/core/pylabtools.py:77: DeprecationWarning: backend2gui is deprecated since IPython 8.24, backends are managed in matplotlib and can be externally registered.\n",
      "  warnings.warn(\n"
     ]
    },
    {
     "data": {
      "text/plain": [
       "Text(0, 0.5, 'S2 parameter')"
      ]
     },
     "execution_count": 7,
     "metadata": {},
     "output_type": "execute_result"
    },
    {
     "data": {
      "image/png": "[encoded data removed]",
      "text/plain": [
       "<Figure size 640x480 with 1 Axes>"
      ]
     },
     "metadata": {},
     "output_type": "display_data"
    }
   ],
   "source": [
    "plt.scatter(frames, orders)\n",
    "plt.xlabel(\"Frame\")\n",
    "plt.ylabel(\"S2 parameter\")"
   ]
  },
  {
   "cell_type": "code",
   "execution_count": 11,
   "id": "8e8f8bdc-73bf-489d-9c66-a01e0a7652d2",
   "metadata": {},
   "outputs": [],
   "source": [
    "orders = []\n",
    "frames = []\n",
    "for frame in traj:\n",
    "    count += 1\n",
    "    frames.append(count)\n",
    "    positions = frame.particles.position\n",
    "    nematic.compute(positions)\n",
    "    orders.append(nematic.order)\n",
    "    "
   ]
  },
  {
   "cell_type": "code",
   "execution_count": 12,
   "id": "0143e217-f6e0-47b6-bbab-656a7cd00b85",
   "metadata": {},
   "outputs": [
    {
     "data": {
      "text/plain": [
       "Text(0, 0.5, 'S2 parameter')"
      ]
     },
     "execution_count": 12,
     "metadata": {},
     "output_type": "execute_result"
    },
    {
     "data": {
      "image/png": "[encoded data removed]",
      "text/plain": [
       "<Figure size 640x480 with 1 Axes>"
      ]
     },
     "metadata": {},
     "output_type": "display_data"
    }
   ],
   "source": [
    "plt.scatter(frames, orders)\n",
    "plt.xlabel(\"Frame\")\n",
    "plt.ylabel(\"S2 parameter\")"
   ]
  },
  {
   "cell_type": "code",
   "execution_count": null,
   "id": "6cb490dd-6d7c-4251-a1f1-21101a9db1a8",
   "metadata": {},
   "outputs": [],
   "source": []
  }
 ],
 "metadata": {
  "kernelspec": {
   "display_name": "Python 3 (ipykernel)",
   "language": "python",
   "name": "python3"
  },
  "language_info": {
   "codemirror_mode": {
    "name": "ipython",
    "version": 3
   },
   "file_extension": ".py",
   "mimetype": "text/x-python",
   "name": "python",
   "nbconvert_exporter": "python",
   "pygments_lexer": "ipython3",
   "version": "3.11.0"
  }
 },
 "nbformat": 4,
 "nbformat_minor": 5
}
