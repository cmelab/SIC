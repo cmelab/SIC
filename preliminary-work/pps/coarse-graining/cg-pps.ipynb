{
 "cells": [
  {
   "cell_type": "code",
   "execution_count": 1,
   "id": "cde8fe9d-0e6c-48bd-82e2-be684edba532",
   "metadata": {},
   "outputs": [
    {
     "name": "stderr",
     "output_type": "stream",
     "text": [
      "/home/jbieri/miniforge3/envs/flowerMD/lib/python3.11/site-packages/mdtraj/formats/__init__.py:13: DeprecationWarning: 'xdrlib' is deprecated and slated for removal in Python 3.13\n",
      "  from mdtraj.formats.trr import TRRTrajectoryFile\n",
      "/home/jbieri/miniforge3/envs/flowerMD/lib/python3.11/site-packages/foyer/forcefield.py:33: DeprecationWarning: pkg_resources is deprecated as an API. See https://setuptools.pypa.io/en/latest/pkg_resources.html\n",
      "  from pkg_resources import iter_entry_points, resource_filename\n",
      "/home/jbieri/miniforge3/envs/flowerMD/lib/python3.11/site-packages/pkg_resources/__init__.py:2825: DeprecationWarning: Deprecated call to `pkg_resources.declare_namespace('google')`.\n",
      "Implementing implicit namespace packages (as specified in PEP 420) is preferred to `pkg_resources.declare_namespace`. See https://setuptools.pypa.io/en/latest/references/keywords.html#keyword-namespace-packages\n",
      "  declare_namespace(pkg)\n",
      "/home/jbieri/miniforge3/envs/flowerMD/lib/python3.11/site-packages/lark/utils.py:163: DeprecationWarning: module 'sre_parse' is deprecated\n",
      "  import sre_parse\n",
      "/home/jbieri/miniforge3/envs/flowerMD/lib/python3.11/site-packages/lark/utils.py:164: DeprecationWarning: module 'sre_constants' is deprecated\n",
      "  import sre_constants\n"
     ]
    }
   ],
   "source": [
    "import numpy as np\n",
    "import mbuild as mb\n",
    "\n",
    "from grits import CG_System\n",
    "from grits.utils import amber_dict"
   ]
  },
  {
   "cell_type": "code",
   "execution_count": 2,
   "id": "f658fb53-c858-485f-9df1-58776093a5d1",
   "metadata": {},
   "outputs": [
    {
     "data": {
      "application/3dmoljs_load.v0": "<div id=\"3dmolviewer_17259922060576615\"  style=\"position: relative; width: 640px; height: 480px;\">\n        <p id=\"3dmolwarning_17259922060576615\" style=\"background-color:#ffcccc;color:black\">3Dmol.js failed to load for some reason.  Please check your browser console for error messages.<br></p>\n        </div>\n<script>\n\nvar loadScriptAsync = function(uri){\n  return new Promise((resolve, reject) => {\n    //this is to ignore the existence of requirejs amd\n    var savedexports, savedmodule;\n    if (typeof exports !== 'undefined') savedexports = exports;\n    else exports = {}\n    if (typeof module !== 'undefined') savedmodule = module;\n    else module = {}\n\n    var tag = document.createElement('script');\n    tag.src = uri;\n    tag.async = true;\n    tag.onload = () => {\n        exports = savedexports;\n        module = savedmodule;\n        resolve();\n    };\n  var firstScriptTag = document.getElementsByTagName('script')[0];\n  firstScriptTag.parentNode.insertBefore(tag, firstScriptTag);\n});\n};\n\nif(typeof $3Dmolpromise === 'undefined') {\n$3Dmolpromise = null;\n  $3Dmolpromise = loadScriptAsync('https://cdnjs.cloudflare.com/ajax/libs/3Dmol/2.1.0/3Dmol-min.js');\n}\n\nvar viewer_17259922060576615 = null;\nvar warn = document.getElementById(\"3dmolwarning_17259922060576615\");\nif(warn) {\n    warn.parentNode.removeChild(warn);\n}\n$3Dmolpromise.then(function() {\nviewer_17259922060576615 = $3Dmol.createViewer(document.getElementById(\"3dmolviewer_17259922060576615\"),{backgroundColor:\"white\"});\nviewer_17259922060576615.zoomTo();\n\tviewer_17259922060576615.addModel(\"@<TRIPOS>MOLECULE\\nRES\\n13 13 1 0 1\\nSMALL\\nNO_CHARGES\\n@<TRIPOS>CRYSIN\\n   10.8540     9.5323     6.3764    90.0000    90.0000    90.0000 1 1\\n@<TRIPOS>ATOM\\n       1 S            2.8126     0.3006    -0.5890 S             1 RES     \\n       2 C            1.0576     0.1160    -0.2897 C             1 RES     \\n       3 C            0.2519     1.2490    -0.1206 C             1 RES     \\n       4 C           -1.1196     1.1038     0.1132 C             1 RES     \\n       5 C           -1.6875    -0.1728     0.1778 C             1 RES     \\n       6 C            0.4877    -1.1616    -0.2251 C             1 RES     \\n       7 C           -0.8840    -1.3050     0.0087 C             1 RES     \\n       8 H            3.1052     0.2696     0.7874 H             1 RES     \\n       9 H            0.6858     2.2396    -0.1693 H             1 RES     \\n      10 H           -1.7417     1.9797     0.2441 H             1 RES     \\n      11 H           -2.7487    -0.2844     0.3587 H             1 RES     \\n      12 H            1.1045    -2.0418    -0.3550 H             1 RES     \\n      13 H           -1.3239    -2.2927     0.0588 H             1 RES     \\n@<TRIPOS>BOND\\n       1        1        2 1\\n       2        1        8 1\\n       3        2        3 1\\n       4        2        6 1\\n       5        3        4 1\\n       6        3        9 1\\n       7        4        5 1\\n       8        4       10 1\\n       9        5        7 1\\n      10        5       11 1\\n      11        6        7 1\\n      12        6       12 1\\n      13        7       13 1\\n@<TRIPOS>SUBSTRUCTURE\\n       1 RES             1 RESIDUE    0 **** ROOT      0\\n\",\"mol2\");\n\tviewer_17259922060576615.setStyle({\"stick\": {\"radius\": 0.18, \"color\": \"grey\"}, \"sphere\": {\"scale\": 0.3, \"colorscheme\": {}}});\n\tviewer_17259922060576615.zoomTo();\nviewer_17259922060576615.render();\n});\n</script>",
      "text/html": [
       "<div id=\"3dmolviewer_17259922060576615\"  style=\"position: relative; width: 640px; height: 480px;\">\n",
       "        <p id=\"3dmolwarning_17259922060576615\" style=\"background-color:#ffcccc;color:black\">3Dmol.js failed to load for some reason.  Please check your browser console for error messages.<br></p>\n",
       "        </div>\n",
       "<script>\n",
       "\n",
       "var loadScriptAsync = function(uri){\n",
       "  return new Promise((resolve, reject) => {\n",
       "    //this is to ignore the existence of requirejs amd\n",
       "    var savedexports, savedmodule;\n",
       "    if (typeof exports !== 'undefined') savedexports = exports;\n",
       "    else exports = {}\n",
       "    if (typeof module !== 'undefined') savedmodule = module;\n",
       "    else module = {}\n",
       "\n",
       "    var tag = document.createElement('script');\n",
       "    tag.src = uri;\n",
       "    tag.async = true;\n",
       "    tag.onload = () => {\n",
       "        exports = savedexports;\n",
       "        module = savedmodule;\n",
       "        resolve();\n",
       "    };\n",
       "  var firstScriptTag = document.getElementsByTagName('script')[0];\n",
       "  firstScriptTag.parentNode.insertBefore(tag, firstScriptTag);\n",
       "});\n",
       "};\n",
       "\n",
       "if(typeof $3Dmolpromise === 'undefined') {\n",
       "$3Dmolpromise = null;\n",
       "  $3Dmolpromise = loadScriptAsync('https://cdnjs.cloudflare.com/ajax/libs/3Dmol/2.1.0/3Dmol-min.js');\n",
       "}\n",
       "\n",
       "var viewer_17259922060576615 = null;\n",
       "var warn = document.getElementById(\"3dmolwarning_17259922060576615\");\n",
       "if(warn) {\n",
       "    warn.parentNode.removeChild(warn);\n",
       "}\n",
       "$3Dmolpromise.then(function() {\n",
       "viewer_17259922060576615 = $3Dmol.createViewer(document.getElementById(\"3dmolviewer_17259922060576615\"),{backgroundColor:\"white\"});\n",
       "viewer_17259922060576615.zoomTo();\n",
       "\tviewer_17259922060576615.addModel(\"@<TRIPOS>MOLECULE\\nRES\\n13 13 1 0 1\\nSMALL\\nNO_CHARGES\\n@<TRIPOS>CRYSIN\\n   10.8540     9.5323     6.3764    90.0000    90.0000    90.0000 1 1\\n@<TRIPOS>ATOM\\n       1 S            2.8126     0.3006    -0.5890 S             1 RES     \\n       2 C            1.0576     0.1160    -0.2897 C             1 RES     \\n       3 C            0.2519     1.2490    -0.1206 C             1 RES     \\n       4 C           -1.1196     1.1038     0.1132 C             1 RES     \\n       5 C           -1.6875    -0.1728     0.1778 C             1 RES     \\n       6 C            0.4877    -1.1616    -0.2251 C             1 RES     \\n       7 C           -0.8840    -1.3050     0.0087 C             1 RES     \\n       8 H            3.1052     0.2696     0.7874 H             1 RES     \\n       9 H            0.6858     2.2396    -0.1693 H             1 RES     \\n      10 H           -1.7417     1.9797     0.2441 H             1 RES     \\n      11 H           -2.7487    -0.2844     0.3587 H             1 RES     \\n      12 H            1.1045    -2.0418    -0.3550 H             1 RES     \\n      13 H           -1.3239    -2.2927     0.0588 H             1 RES     \\n@<TRIPOS>BOND\\n       1        1        2 1\\n       2        1        8 1\\n       3        2        3 1\\n       4        2        6 1\\n       5        3        4 1\\n       6        3        9 1\\n       7        4        5 1\\n       8        4       10 1\\n       9        5        7 1\\n      10        5       11 1\\n      11        6        7 1\\n      12        6       12 1\\n      13        7       13 1\\n@<TRIPOS>SUBSTRUCTURE\\n       1 RES             1 RESIDUE    0 **** ROOT      0\\n\",\"mol2\");\n",
       "\tviewer_17259922060576615.setStyle({\"stick\": {\"radius\": 0.18, \"color\": \"grey\"}, \"sphere\": {\"scale\": 0.3, \"colorscheme\": {}}});\n",
       "\tviewer_17259922060576615.zoomTo();\n",
       "viewer_17259922060576615.render();\n",
       "});\n",
       "</script>"
      ]
     },
     "metadata": {},
     "output_type": "display_data"
    }
   ],
   "source": [
    "pps = \"SC(=CC=C1)C=C1\"\n",
    "a = mb.load(pps, smiles=True)\n",
    "a.visualize().show()\n"
   ]
  },
  {
   "cell_type": "code",
   "execution_count": 3,
   "id": "27694ce4-6825-4573-8e2d-9fa7ca381d3c",
   "metadata": {},
   "outputs": [],
   "source": [
    "gsdfile = \"/home/jbieri/CME_lab/projects/SIC/preliminary-work/pps/pps-melt.gsd\"\n",
    "system = CG_System(\n",
    "    gsdfile, \n",
    "    beads={\"_A\": pps}, \n",
    "    conversion_dict=amber_dict\n",
    ")"
   ]
  },
  {
   "cell_type": "code",
   "execution_count": 4,
   "id": "70849acb-0dda-422a-a715-bbda771cd553",
   "metadata": {},
   "outputs": [
    {
     "name": "stderr",
     "output_type": "stream",
     "text": [
      "/home/jbieri/miniforge3/envs/flowerMD/lib/python3.11/site-packages/gsd/hoomd.py:836: DeprecationWarning: The truth value of an empty array is ambiguous. Returning False, but in future this will result in an error. Use `array.size > 0` to check that an array is not empty.\n",
      "  if matches_default_value and not self._chunk_exists_frame_0.get(\n"
     ]
    }
   ],
   "source": [
    "cg_gsd = \"pps-melt-cg.gsd\"\n",
    "system.save(cg_gsd)"
   ]
  },
  {
   "cell_type": "code",
   "execution_count": null,
   "id": "bfe2de08-890f-4216-a34a-ae73e1a9c517",
   "metadata": {},
   "outputs": [],
   "source": []
  }
 ],
 "metadata": {
  "kernelspec": {
   "display_name": "Python 3 (ipykernel)",
   "language": "python",
   "name": "python3"
  },
  "language_info": {
   "codemirror_mode": {
    "name": "ipython",
    "version": 3
   },
   "file_extension": ".py",
   "mimetype": "text/x-python",
   "name": "python",
   "nbconvert_exporter": "python",
   "pygments_lexer": "ipython3",
   "version": "3.11.0"
  }
 },
 "nbformat": 4,
 "nbformat_minor": 5
}
