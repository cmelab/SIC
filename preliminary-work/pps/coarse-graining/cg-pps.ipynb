{
 "cells": [
  {
   "cell_type": "code",
   "execution_count": 28,
   "id": "cde8fe9d-0e6c-48bd-82e2-be684edba532",
   "metadata": {},
   "outputs": [],
   "source": [
    "import numpy as np\n",
    "import mbuild as mb\n",
    "\n",
    "from grits import CG_System\n",
    "from grits.utils import amber_dict"
   ]
  },
  {
   "cell_type": "code",
   "execution_count": 29,
   "id": "f658fb53-c858-485f-9df1-58776093a5d1",
   "metadata": {},
   "outputs": [
    {
     "data": {
      "application/3dmoljs_load.v0": "<div id=\"3dmolviewer_17238278036858332\"  style=\"position: relative; width: 640px; height: 480px;\">\n        <p id=\"3dmolwarning_17238278036858332\" style=\"background-color:#ffcccc;color:black\">3Dmol.js failed to load for some reason.  Please check your browser console for error messages.<br></p>\n        </div>\n<script>\n\nvar loadScriptAsync = function(uri){\n  return new Promise((resolve, reject) => {\n    //this is to ignore the existence of requirejs amd\n    var savedexports, savedmodule;\n    if (typeof exports !== 'undefined') savedexports = exports;\n    else exports = {}\n    if (typeof module !== 'undefined') savedmodule = module;\n    else module = {}\n\n    var tag = document.createElement('script');\n    tag.src = uri;\n    tag.async = true;\n    tag.onload = () => {\n        exports = savedexports;\n        module = savedmodule;\n        resolve();\n    };\n  var firstScriptTag = document.getElementsByTagName('script')[0];\n  firstScriptTag.parentNode.insertBefore(tag, firstScriptTag);\n});\n};\n\nif(typeof $3Dmolpromise === 'undefined') {\n$3Dmolpromise = null;\n  $3Dmolpromise = loadScriptAsync('https://cdnjs.cloudflare.com/ajax/libs/3Dmol/2.3.0/3Dmol-min.js');\n}\n\nvar viewer_17238278036858332 = null;\nvar warn = document.getElementById(\"3dmolwarning_17238278036858332\");\nif(warn) {\n    warn.parentNode.removeChild(warn);\n}\n$3Dmolpromise.then(function() {\nviewer_17238278036858332 = $3Dmol.createViewer(document.getElementById(\"3dmolviewer_17238278036858332\"),{backgroundColor:\"white\"});\nviewer_17238278036858332.zoomTo();\n\tviewer_17238278036858332.addModel(\"@<TRIPOS>MOLECULE\\nRES\\n13 13 1 0 1\\nSMALL\\nNO_CHARGES\\n@<TRIPOS>CRYSIN\\n   10.8585     9.5361     6.3720    90.0000    90.0000    90.0000 1 1\\n@<TRIPOS>ATOM\\n       1 S            2.8033     0.3060    -0.6290 S             1 RES     \\n       2 C            1.0532     0.1180    -0.3048 C             1 RES     \\n       3 C            0.2479     1.2495    -0.1237 C             1 RES     \\n       4 C           -1.1199     1.1017     0.1296 C             1 RES     \\n       5 C           -1.6844    -0.1759     0.2018 C             1 RES     \\n       6 C            0.4865    -1.1607    -0.2325 C             1 RES     \\n       7 C           -0.8814    -1.3066     0.0209 C             1 RES     \\n       8 H            3.1157     0.2750     0.7431 H             1 RES     \\n       9 H            0.6792     2.2409    -0.1783 H             1 RES     \\n      10 H           -1.7417     1.9764     0.2697 H             1 RES     \\n      11 H           -2.7428    -0.2895     0.3978 H             1 RES     \\n      12 H            1.1031    -2.0397    -0.3715 H             1 RES     \\n      13 H           -1.3187    -2.2951     0.0769 H             1 RES     \\n@<TRIPOS>BOND\\n       1        1        2 1\\n       2        1        8 1\\n       3        2        3 1\\n       4        2        6 1\\n       5        3        4 1\\n       6        3        9 1\\n       7        4        5 1\\n       8        4       10 1\\n       9        5        7 1\\n      10        5       11 1\\n      11        6        7 1\\n      12        6       12 1\\n      13        7       13 1\\n@<TRIPOS>SUBSTRUCTURE\\n       1 RES             1 RESIDUE    0 **** ROOT      0\\n\",\"mol2\");\n\tviewer_17238278036858332.setStyle({\"stick\": {\"radius\": 0.18, \"color\": \"grey\"}, \"sphere\": {\"scale\": 0.3, \"colorscheme\": {}}});\n\tviewer_17238278036858332.zoomTo();\nviewer_17238278036858332.render();\n});\n</script>",
      "text/html": [
       "<div id=\"3dmolviewer_17238278036858332\"  style=\"position: relative; width: 640px; height: 480px;\">\n",
       "        <p id=\"3dmolwarning_17238278036858332\" style=\"background-color:#ffcccc;color:black\">3Dmol.js failed to load for some reason.  Please check your browser console for error messages.<br></p>\n",
       "        </div>\n",
       "<script>\n",
       "\n",
       "var loadScriptAsync = function(uri){\n",
       "  return new Promise((resolve, reject) => {\n",
       "    //this is to ignore the existence of requirejs amd\n",
       "    var savedexports, savedmodule;\n",
       "    if (typeof exports !== 'undefined') savedexports = exports;\n",
       "    else exports = {}\n",
       "    if (typeof module !== 'undefined') savedmodule = module;\n",
       "    else module = {}\n",
       "\n",
       "    var tag = document.createElement('script');\n",
       "    tag.src = uri;\n",
       "    tag.async = true;\n",
       "    tag.onload = () => {\n",
       "        exports = savedexports;\n",
       "        module = savedmodule;\n",
       "        resolve();\n",
       "    };\n",
       "  var firstScriptTag = document.getElementsByTagName('script')[0];\n",
       "  firstScriptTag.parentNode.insertBefore(tag, firstScriptTag);\n",
       "});\n",
       "};\n",
       "\n",
       "if(typeof $3Dmolpromise === 'undefined') {\n",
       "$3Dmolpromise = null;\n",
       "  $3Dmolpromise = loadScriptAsync('https://cdnjs.cloudflare.com/ajax/libs/3Dmol/2.3.0/3Dmol-min.js');\n",
       "}\n",
       "\n",
       "var viewer_17238278036858332 = null;\n",
       "var warn = document.getElementById(\"3dmolwarning_17238278036858332\");\n",
       "if(warn) {\n",
       "    warn.parentNode.removeChild(warn);\n",
       "}\n",
       "$3Dmolpromise.then(function() {\n",
       "viewer_17238278036858332 = $3Dmol.createViewer(document.getElementById(\"3dmolviewer_17238278036858332\"),{backgroundColor:\"white\"});\n",
       "viewer_17238278036858332.zoomTo();\n",
       "\tviewer_17238278036858332.addModel(\"@<TRIPOS>MOLECULE\\nRES\\n13 13 1 0 1\\nSMALL\\nNO_CHARGES\\n@<TRIPOS>CRYSIN\\n   10.8585     9.5361     6.3720    90.0000    90.0000    90.0000 1 1\\n@<TRIPOS>ATOM\\n       1 S            2.8033     0.3060    -0.6290 S             1 RES     \\n       2 C            1.0532     0.1180    -0.3048 C             1 RES     \\n       3 C            0.2479     1.2495    -0.1237 C             1 RES     \\n       4 C           -1.1199     1.1017     0.1296 C             1 RES     \\n       5 C           -1.6844    -0.1759     0.2018 C             1 RES     \\n       6 C            0.4865    -1.1607    -0.2325 C             1 RES     \\n       7 C           -0.8814    -1.3066     0.0209 C             1 RES     \\n       8 H            3.1157     0.2750     0.7431 H             1 RES     \\n       9 H            0.6792     2.2409    -0.1783 H             1 RES     \\n      10 H           -1.7417     1.9764     0.2697 H             1 RES     \\n      11 H           -2.7428    -0.2895     0.3978 H             1 RES     \\n      12 H            1.1031    -2.0397    -0.3715 H             1 RES     \\n      13 H           -1.3187    -2.2951     0.0769 H             1 RES     \\n@<TRIPOS>BOND\\n       1        1        2 1\\n       2        1        8 1\\n       3        2        3 1\\n       4        2        6 1\\n       5        3        4 1\\n       6        3        9 1\\n       7        4        5 1\\n       8        4       10 1\\n       9        5        7 1\\n      10        5       11 1\\n      11        6        7 1\\n      12        6       12 1\\n      13        7       13 1\\n@<TRIPOS>SUBSTRUCTURE\\n       1 RES             1 RESIDUE    0 **** ROOT      0\\n\",\"mol2\");\n",
       "\tviewer_17238278036858332.setStyle({\"stick\": {\"radius\": 0.18, \"color\": \"grey\"}, \"sphere\": {\"scale\": 0.3, \"colorscheme\": {}}});\n",
       "\tviewer_17238278036858332.zoomTo();\n",
       "viewer_17238278036858332.render();\n",
       "});\n",
       "</script>"
      ]
     },
     "metadata": {},
     "output_type": "display_data"
    }
   ],
   "source": [
    "pps = \"SC(=CC=C1)C=C1\"\n",
    "a = mb.load(pps, smiles=True)\n",
    "a.visualize().show()\n"
   ]
  },
  {
   "cell_type": "code",
   "execution_count": 30,
   "id": "27694ce4-6825-4573-8e2d-9fa7ca381d3c",
   "metadata": {},
   "outputs": [],
   "source": [
    "gsdfile = \"/mnt/d/Job/SIC/Test/tensile0.gsd\"\n",
    "system = CG_System(\n",
    "    gsdfile, \n",
    "    beads={\"_A\": pps}, \n",
    "    conversion_dict=amber_dict\n",
    ")"
   ]
  },
  {
   "cell_type": "code",
   "execution_count": 31,
   "id": "70849acb-0dda-422a-a715-bbda771cd553",
   "metadata": {},
   "outputs": [
    {
     "name": "stderr",
     "output_type": "stream",
     "text": [
      "/home/jbieri/miniforge3/envs/grits/lib/python3.12/site-packages/gsd/hoomd.py:836: DeprecationWarning: The truth value of an empty array is ambiguous. Returning False, but in future this will result in an error. Use `array.size > 0` to check that an array is not empty.\n",
      "  if matches_default_value and not self._chunk_exists_frame_0.get(\n"
     ]
    }
   ],
   "source": [
    "cg_gsd = \"given-pps-cg.gsd\"\n",
    "system.save(cg_gsd)"
   ]
  }
 ],
 "metadata": {
  "kernelspec": {
   "display_name": "Python 3 (ipykernel)",
   "language": "python",
   "name": "python3"
  },
  "language_info": {
   "codemirror_mode": {
    "name": "ipython",
    "version": 3
   },
   "file_extension": ".py",
   "mimetype": "text/x-python",
   "name": "python",
   "nbconvert_exporter": "python",
   "pygments_lexer": "ipython3",
   "version": "3.11.0"
  }
 },
 "nbformat": 4,
 "nbformat_minor": 5
}
