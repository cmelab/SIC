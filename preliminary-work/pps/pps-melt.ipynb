{
 "cells": [
  {
   "cell_type": "code",
   "execution_count": 1,
   "id": "3b5d2dce-4e6b-4015-8d10-b0f42071ac54",
   "metadata": {},
   "outputs": [
    {
     "name": "stderr",
     "output_type": "stream",
     "text": [
      "/home/jbieri/miniforge3/envs/flowerMD/lib/python3.11/site-packages/mdtraj/formats/__init__.py:13: DeprecationWarning: 'xdrlib' is deprecated and slated for removal in Python 3.13\n",
      "  from mdtraj.formats.trr import TRRTrajectoryFile\n"
     ]
    }
   ],
   "source": [
    "from flowermd.library import PPS, OPLS_AA_PPS, BeadSpring\n",
    "import freud\n",
    "import warnings\n",
    "warnings.filterwarnings('ignore')\n",
    "import flowermd\n",
    "import hoomd\n",
    "from flowermd.library.forcefields import FF_from_file\n",
    "from flowermd import Pack\n",
    "from flowermd.base import Molecule, Lattice, Simulation\n",
    "from cmeutils.visualize import FresnelGSD\n",
    "import gsd\n",
    "import matplotlib.pyplot as plt\n",
    "import numpy as np\n",
    "import gsd.hoomd\n",
    "\n",
    "cpu = hoomd.device.CPU() # So I don't get a CUDA error on local machine\n",
    "nematic = freud.order.Nematic()"
   ]
  },
  {
   "cell_type": "code",
   "execution_count": null,
   "id": "806e9d67-d35d-4ff1-bb2e-eb91cf94255e",
   "metadata": {},
   "outputs": [],
   "source": [
    "molecule = PPS(num_mols=30, lengths=20)\n",
    "\n",
    "box = Lattice(molecules=molecule, x = 5, y = 5, n = 4)\n",
    "box.apply_forcefield(r_cut=2.5, force_field=OPLS_AA_PPS(), auto_scale=True,remove_charges=True, remove_hydrogens=True)"
   ]
  },
  {
   "cell_type": "code",
   "execution_count": null,
   "id": "bd14812f-a504-45d3-8489-21006208b0f9",
   "metadata": {},
   "outputs": [],
   "source": [
    "box.hoomd_snapshot\n",
    "hoomd_forces = box.hoomd_forcefield\n",
    "hoomd_forces\n",
    "lj_force = hoomd_forces[3]\n",
    "cpu = hoomd.device.CPU()\n",
    "dict(lj_force.params)"
   ]
  },
  {
   "cell_type": "code",
   "execution_count": null,
   "id": "fa4a7af6-1b36-4cc7-8193-b37e54f5c8d2",
   "metadata": {},
   "outputs": [],
   "source": [
    "sim = Simulation.from_system(system=box, gsd_write_freq=100, log_write_freq=100, device=cpu, gsd_file_name='pps-melt.gsd')"
   ]
  },
  {
   "cell_type": "code",
   "execution_count": null,
   "id": "63980906-dc00-4c9d-9834-f7e32df70f61",
   "metadata": {},
   "outputs": [],
   "source": [
    "box.system.visualize()"
   ]
  },
  {
   "cell_type": "code",
   "execution_count": null,
   "id": "d8dbb8bc-e8de-490e-9aff-d1bca92db9d9",
   "metadata": {},
   "outputs": [],
   "source": [
    "sim.run_NVT(n_steps=2e5, kT=5.0, tau_kt=1.0)\n",
    "sim.flush_writers()"
   ]
  },
  {
   "cell_type": "code",
   "execution_count": null,
   "id": "fb293fba-212b-4925-aaa0-ed8e608b8e45",
   "metadata": {},
   "outputs": [],
   "source": []
  }
 ],
 "metadata": {
  "kernelspec": {
   "display_name": "Python 3 (ipykernel)",
   "language": "python",
   "name": "python3"
  },
  "language_info": {
   "codemirror_mode": {
    "name": "ipython",
    "version": 3
   },
   "file_extension": ".py",
   "mimetype": "text/x-python",
   "name": "python",
   "nbconvert_exporter": "python",
   "pygments_lexer": "ipython3",
   "version": "3.11.0"
  }
 },
 "nbformat": 4,
 "nbformat_minor": 5
}
