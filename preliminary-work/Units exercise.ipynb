{
 "cells": [
  {
   "cell_type": "code",
   "execution_count": 1,
   "id": "67081b67-7a25-48f2-8daa-f78434be755d",
   "metadata": {},
   "outputs": [],
   "source": [
    "#Calculating tau for PPS"
   ]
  },
  {
   "cell_type": "code",
   "execution_count": 2,
   "id": "2381633c-98ef-418a-81af-5c1b506f16eb",
   "metadata": {},
   "outputs": [],
   "source": [
    "import numpy"
   ]
  },
  {
   "cell_type": "code",
   "execution_count": 3,
   "id": "bd0aacb8-cf68-4620-814f-19804e586e54",
   "metadata": {},
   "outputs": [],
   "source": [
    "sigma = 0.3438e-9 #nm to meters\n",
    "epsilon = 1.065*1000 #kJ to J\n",
    "mass = 32.06/1000 #g to kg/mol"
   ]
  },
  {
   "cell_type": "code",
   "execution_count": 4,
   "id": "c96c3a58-5e42-4237-8a87-7bafb8ccabb1",
   "metadata": {},
   "outputs": [],
   "source": [
    "tau = numpy.sqrt((mass*(sigma**2))/epsilon)"
   ]
  },
  {
   "cell_type": "code",
   "execution_count": 5,
   "id": "38a6a264-08dd-4566-aa49-b9b590fffeb4",
   "metadata": {},
   "outputs": [
    {
     "data": {
      "text/plain": [
       "1.88630895920511e-12"
      ]
     },
     "execution_count": 5,
     "metadata": {},
     "output_type": "execute_result"
    }
   ],
   "source": [
    "tau"
   ]
  },
  {
   "cell_type": "code",
   "execution_count": 6,
   "id": "921fcaf7-bb84-4477-a610-e4066baf5c36",
   "metadata": {},
   "outputs": [
    {
     "data": {
      "text/plain": [
       "1.88630895920511e-15"
      ]
     },
     "execution_count": 6,
     "metadata": {},
     "output_type": "execute_result"
    }
   ],
   "source": [
    "tau*0.001 #one time step of 0.001"
   ]
  },
  {
   "cell_type": "code",
   "execution_count": 7,
   "id": "5325480a-21af-4ebe-8004-d6d12d54dd35",
   "metadata": {},
   "outputs": [],
   "source": [
    "#Find the volume of a box with 100000 monomers of PPS and a density of 1.2 g/cm^3"
   ]
  },
  {
   "cell_type": "code",
   "execution_count": 8,
   "id": "f564c18d-9a7b-4de1-ae19-2a348c7ab407",
   "metadata": {},
   "outputs": [
    {
     "data": {
      "text/plain": [
       "9.409941326248203e-18"
      ]
     },
     "execution_count": 8,
     "metadata": {},
     "output_type": "execute_result"
    }
   ],
   "source": [
    "mass = 68/(6.022E23) #g/mol to g of one monomer\n",
    "density = 1.2\n",
    "n = 100000\n",
    "volume = (n*mass)/density\n",
    "volume"
   ]
  },
  {
   "cell_type": "code",
   "execution_count": 9,
   "id": "1e07ad36-1b4b-4746-8d98-347a6a6e4e2b",
   "metadata": {},
   "outputs": [
    {
     "data": {
      "text/plain": [
       "2.1111980293376474e-06"
      ]
     },
     "execution_count": 9,
     "metadata": {},
     "output_type": "execute_result"
    }
   ],
   "source": [
    "L = numpy.cbrt(volume)\n",
    "L"
   ]
  },
  {
   "cell_type": "code",
   "execution_count": 10,
   "id": "7eaa4cdd-3b7f-4c0f-959a-ee16e7edf3e2",
   "metadata": {},
   "outputs": [],
   "source": [
    "#given box with length of 10nm, how many monomers are inside the box at that density?"
   ]
  },
  {
   "cell_type": "code",
   "execution_count": 11,
   "id": "256f63cf-9882-4f23-95d5-de5851cc9b03",
   "metadata": {},
   "outputs": [
    {
     "data": {
      "text/plain": [
       "1.1999999999999998e-18"
      ]
     },
     "execution_count": 11,
     "metadata": {},
     "output_type": "execute_result"
    }
   ],
   "source": [
    "length = 1e-6\n",
    "m = (length**3)*density\n",
    "m"
   ]
  },
  {
   "cell_type": "code",
   "execution_count": 12,
   "id": "b580cb6a-5ced-44d8-986a-9a04f0c46e39",
   "metadata": {},
   "outputs": [
    {
     "data": {
      "text/plain": [
       "10627.058823529409"
      ]
     },
     "execution_count": 12,
     "metadata": {},
     "output_type": "execute_result"
    }
   ],
   "source": [
    "monomers = m/mass\n",
    "monomers"
   ]
  },
  {
   "cell_type": "code",
   "execution_count": 13,
   "id": "b88b8ea7-f897-46d9-928b-e6b15068e836",
   "metadata": {},
   "outputs": [],
   "source": [
    "#what is the change in box length per step with 20Hz and 38micron amplitude\n",
    "#delta L = amplitude\n",
    "#box length per step = amplitude/frequency?"
   ]
  },
  {
   "cell_type": "code",
   "execution_count": 15,
   "id": "40eb2918-b7dc-4e07-983b-cd5faa3e0b62",
   "metadata": {},
   "outputs": [
    {
     "name": "stdout",
     "output_type": "stream",
     "text": [
      "1.9e-06\n"
     ]
    }
   ],
   "source": [
    "frequency = 20 #1/s\n",
    "amplitude = 3.8e-5\n",
    "print(amplitude/frequency)"
   ]
  },
  {
   "cell_type": "code",
   "execution_count": 16,
   "id": "1f08e09f-9053-4665-baca-b9615ac7e12c",
   "metadata": {},
   "outputs": [],
   "source": [
    "#interaction energy/mol"
   ]
  },
  {
   "cell_type": "code",
   "execution_count": null,
   "id": "9e1cbf6f-60ad-4d2d-b882-a00c01de8db0",
   "metadata": {},
   "outputs": [],
   "source": []
  }
 ],
 "metadata": {
  "kernelspec": {
   "display_name": "Python 3 (ipykernel)",
   "language": "python",
   "name": "python3"
  },
  "language_info": {
   "codemirror_mode": {
    "name": "ipython",
    "version": 3
   },
   "file_extension": ".py",
   "mimetype": "text/x-python",
   "name": "python",
   "nbconvert_exporter": "python",
   "pygments_lexer": "ipython3",
   "version": "3.11.0"
  }
 },
 "nbformat": 4,
 "nbformat_minor": 5
}
