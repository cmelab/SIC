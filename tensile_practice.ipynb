{
 "cells": [
  {
   "cell_type": "code",
   "execution_count": 1,
   "id": "3ac0d2aa-0ea2-4308-8acb-30ba220ab91b",
   "metadata": {},
   "outputs": [
    {
     "name": "stderr",
     "output_type": "stream",
     "text": [
      "/home/jbieri/miniforge3/envs/flowerMD/lib/python3.11/site-packages/mdtraj/formats/__init__.py:13: DeprecationWarning: 'xdrlib' is deprecated and slated for removal in Python 3.13\n",
      "  from mdtraj.formats.trr import TRRTrajectoryFile\n"
     ]
    },
    {
     "ename": "ParameterizationError",
     "evalue": "No parameters found for connection <Angle Angle, id: 140232775092256> , group: angle_type, identifiers: [['opls_145', 'opls_202', 'opls_145'], ['CA', 'S', 'CA']] in the Forcefield.",
     "output_type": "error",
     "traceback": [
      "\u001b[0;31m---------------------------------------------------------------------------\u001b[0m",
      "\u001b[0;31mParameterizationError\u001b[0m                     Traceback (most recent call last)",
      "Cell \u001b[0;32mIn[1], line 22\u001b[0m\n\u001b[1;32m     17\u001b[0m \u001b[38;5;66;03m# Create a slab\u001b[39;00m\n\u001b[1;32m     18\u001b[0m system \u001b[38;5;241m=\u001b[39m Pack(\n\u001b[1;32m     19\u001b[0m     molecules\u001b[38;5;241m=\u001b[39mmolecule,\n\u001b[1;32m     20\u001b[0m     density\u001b[38;5;241m=\u001b[39m\u001b[38;5;241m1.1\u001b[39m \u001b[38;5;241m*\u001b[39m u\u001b[38;5;241m.\u001b[39mg\u001b[38;5;241m/\u001b[39mu\u001b[38;5;241m.\u001b[39mcm\u001b[38;5;241m*\u001b[39m\u001b[38;5;241m*\u001b[39m\u001b[38;5;241m3\u001b[39m,\n\u001b[1;32m     21\u001b[0m )\n\u001b[0;32m---> 22\u001b[0m \u001b[43msystem\u001b[49m\u001b[38;5;241;43m.\u001b[39;49m\u001b[43mapply_forcefield\u001b[49m\u001b[43m(\u001b[49m\u001b[43mr_cut\u001b[49m\u001b[38;5;241;43m=\u001b[39;49m\u001b[38;5;241;43m2.5\u001b[39;49m\u001b[43m,\u001b[49m\u001b[43m \u001b[49m\u001b[43mforce_field\u001b[49m\u001b[38;5;241;43m=\u001b[39;49m\u001b[43mOPLS_AA\u001b[49m\u001b[43m(\u001b[49m\u001b[43m)\u001b[49m\u001b[43m,\u001b[49m\u001b[43m \u001b[49m\u001b[43mauto_scale\u001b[49m\u001b[38;5;241;43m=\u001b[39;49m\u001b[38;5;28;43;01mTrue\u001b[39;49;00m\u001b[43m,\u001b[49m\u001b[43mremove_charges\u001b[49m\u001b[38;5;241;43m=\u001b[39;49m\u001b[38;5;28;43;01mTrue\u001b[39;49;00m\u001b[43m,\u001b[49m\u001b[43m \u001b[49m\u001b[43mremove_hydrogens\u001b[49m\u001b[38;5;241;43m=\u001b[39;49m\u001b[38;5;28;43;01mTrue\u001b[39;49;00m\u001b[43m)\u001b[49m\n\u001b[1;32m     23\u001b[0m sim \u001b[38;5;241m=\u001b[39m SlabSimulation\u001b[38;5;241m.\u001b[39mfrom_system(\n\u001b[1;32m     24\u001b[0m     system\u001b[38;5;241m=\u001b[39msystem,\n\u001b[1;32m     25\u001b[0m     interface_axis\u001b[38;5;241m=\u001b[39m(\u001b[38;5;241m1\u001b[39m,\u001b[38;5;241m0\u001b[39m,\u001b[38;5;241m0\u001b[39m),\n\u001b[1;32m     26\u001b[0m     gsd_file_name\u001b[38;5;241m=\u001b[39m\u001b[38;5;124m\"\u001b[39m\u001b[38;5;124mslab_x_interface.gsd\u001b[39m\u001b[38;5;124m\"\u001b[39m, device \u001b[38;5;241m=\u001b[39m cpu\n\u001b[1;32m     27\u001b[0m )\n\u001b[1;32m     28\u001b[0m sim\u001b[38;5;241m.\u001b[39mforces\n",
      "File \u001b[0;32m~/miniforge3/envs/flowerMD/lib/python3.11/site-packages/flowermd/base/system.py:548\u001b[0m, in \u001b[0;36mSystem.apply_forcefield\u001b[0;34m(self, r_cut, force_field, auto_scale, scale_charges, remove_charges, remove_hydrogens, pppm_resolution, pppm_order, nlist_buffer)\u001b[0m\n\u001b[1;32m    544\u001b[0m \u001b[38;5;28;01mif\u001b[39;00m \u001b[38;5;28mself\u001b[39m\u001b[38;5;241m.\u001b[39m_gmso_forcefields_dict:\n\u001b[1;32m    545\u001b[0m     \u001b[38;5;66;03m# assign names to all the gmso sites based on mol_type to\u001b[39;00m\n\u001b[1;32m    546\u001b[0m     \u001b[38;5;66;03m# match the keys in self._gmso_forcefields_dict before applying ff\u001b[39;00m\n\u001b[1;32m    547\u001b[0m     \u001b[38;5;28mself\u001b[39m\u001b[38;5;241m.\u001b[39m_assign_site_mol_type_idx()\n\u001b[0;32m--> 548\u001b[0m \u001b[38;5;28mself\u001b[39m\u001b[38;5;241m.\u001b[39mgmso_system \u001b[38;5;241m=\u001b[39m \u001b[43mapply\u001b[49m\u001b[43m(\u001b[49m\n\u001b[1;32m    549\u001b[0m \u001b[43m    \u001b[49m\u001b[38;5;28;43mself\u001b[39;49m\u001b[38;5;241;43m.\u001b[39;49m\u001b[43mgmso_system\u001b[49m\u001b[43m,\u001b[49m\n\u001b[1;32m    550\u001b[0m \u001b[43m    \u001b[49m\u001b[38;5;28;43mself\u001b[39;49m\u001b[38;5;241;43m.\u001b[39;49m\u001b[43m_gmso_forcefields_dict\u001b[49m\u001b[43m,\u001b[49m\n\u001b[1;32m    551\u001b[0m \u001b[43m    \u001b[49m\u001b[43mmatch_ff_by\u001b[49m\u001b[38;5;241;43m=\u001b[39;49m\u001b[38;5;124;43m\"\u001b[39;49m\u001b[38;5;124;43mgroup\u001b[39;49m\u001b[38;5;124;43m\"\u001b[39;49m\u001b[43m,\u001b[49m\n\u001b[1;32m    552\u001b[0m \u001b[43m    \u001b[49m\u001b[43midentify_connections\u001b[49m\u001b[38;5;241;43m=\u001b[39;49m\u001b[38;5;28;43;01mTrue\u001b[39;49;00m\u001b[43m,\u001b[49m\n\u001b[1;32m    553\u001b[0m \u001b[43m    \u001b[49m\u001b[43mspeedup_by_moltag\u001b[49m\u001b[38;5;241;43m=\u001b[39;49m\u001b[38;5;28;43;01mTrue\u001b[39;49;00m\u001b[43m,\u001b[49m\n\u001b[1;32m    554\u001b[0m \u001b[43m    \u001b[49m\u001b[43mspeedup_by_molgraph\u001b[49m\u001b[38;5;241;43m=\u001b[39;49m\u001b[38;5;28;43;01mFalse\u001b[39;49;00m\u001b[43m,\u001b[49m\n\u001b[1;32m    555\u001b[0m \u001b[43m\u001b[49m\u001b[43m)\u001b[49m\n\u001b[1;32m    557\u001b[0m \u001b[38;5;28;01mif\u001b[39;00m remove_charges:\n\u001b[1;32m    558\u001b[0m     \u001b[38;5;28;01mfor\u001b[39;00m site \u001b[38;5;129;01min\u001b[39;00m \u001b[38;5;28mself\u001b[39m\u001b[38;5;241m.\u001b[39mgmso_system\u001b[38;5;241m.\u001b[39msites:\n",
      "File \u001b[0;32m~/miniforge3/envs/flowerMD/lib/python3.11/site-packages/gmso/parameterization/parameterize.py:92\u001b[0m, in \u001b[0;36mapply\u001b[0;34m(top, forcefields, match_ff_by, identify_connections, speedup_by_molgraph, speedup_by_moltag, ignore_params, remove_untyped, fast_copy)\u001b[0m\n\u001b[1;32m     77\u001b[0m config \u001b[38;5;241m=\u001b[39m TopologyParameterizationConfig\u001b[38;5;241m.\u001b[39mmodel_validate(\n\u001b[1;32m     78\u001b[0m     \u001b[38;5;28mdict\u001b[39m(\n\u001b[1;32m     79\u001b[0m         match_ff_by\u001b[38;5;241m=\u001b[39mmatch_ff_by,\n\u001b[0;32m   (...)\u001b[0m\n\u001b[1;32m     86\u001b[0m     )\n\u001b[1;32m     87\u001b[0m )\n\u001b[1;32m     88\u001b[0m parameterizer \u001b[38;5;241m=\u001b[39m TopologyParameterizer(\n\u001b[1;32m     89\u001b[0m     topology\u001b[38;5;241m=\u001b[39mtop, forcefields\u001b[38;5;241m=\u001b[39mforcefields, config\u001b[38;5;241m=\u001b[39mconfig\n\u001b[1;32m     90\u001b[0m )\n\u001b[0;32m---> 92\u001b[0m \u001b[43mparameterizer\u001b[49m\u001b[38;5;241;43m.\u001b[39;49m\u001b[43mrun_parameterization\u001b[49m\u001b[43m(\u001b[49m\u001b[43m)\u001b[49m\n\u001b[1;32m     94\u001b[0m \u001b[38;5;28;01mreturn\u001b[39;00m parameterizer\u001b[38;5;241m.\u001b[39mtopology\n",
      "File \u001b[0;32m~/miniforge3/envs/flowerMD/lib/python3.11/site-packages/gmso/parameterization/topology_parameterizer.py:331\u001b[0m, in \u001b[0;36mTopologyParameterizer.run_parameterization\u001b[0;34m(self)\u001b[0m\n\u001b[1;32m    322\u001b[0m         \u001b[38;5;28;01melse\u001b[39;00m:\n\u001b[1;32m    323\u001b[0m             typemap \u001b[38;5;241m=\u001b[39m \u001b[38;5;28mself\u001b[39m\u001b[38;5;241m.\u001b[39m_get_atomtypes(\n\u001b[1;32m    324\u001b[0m                 \u001b[38;5;28mself\u001b[39m\u001b[38;5;241m.\u001b[39mget_ff(label),\n\u001b[1;32m    325\u001b[0m                 \u001b[38;5;28mself\u001b[39m\u001b[38;5;241m.\u001b[39mtopology,\n\u001b[0;32m   (...)\u001b[0m\n\u001b[1;32m    329\u001b[0m                 \u001b[38;5;28mself\u001b[39m\u001b[38;5;241m.\u001b[39mconfig\u001b[38;5;241m.\u001b[39mspeedup_by_molgraph,\n\u001b[1;32m    330\u001b[0m             )\n\u001b[0;32m--> 331\u001b[0m             \u001b[38;5;28;43mself\u001b[39;49m\u001b[38;5;241;43m.\u001b[39;49m\u001b[43m_parameterize\u001b[49m\u001b[43m(\u001b[49m\n\u001b[1;32m    332\u001b[0m \u001b[43m                \u001b[49m\u001b[38;5;28;43mself\u001b[39;49m\u001b[38;5;241;43m.\u001b[39;49m\u001b[43mtopology\u001b[49m\u001b[43m,\u001b[49m\n\u001b[1;32m    333\u001b[0m \u001b[43m                \u001b[49m\u001b[43mtypemap\u001b[49m\u001b[43m,\u001b[49m\n\u001b[1;32m    334\u001b[0m \u001b[43m                \u001b[49m\u001b[43mlabel_type\u001b[49m\u001b[38;5;241;43m=\u001b[39;49m\u001b[38;5;28;43mself\u001b[39;49m\u001b[38;5;241;43m.\u001b[39;49m\u001b[43mconfig\u001b[49m\u001b[38;5;241;43m.\u001b[39;49m\u001b[43mmatch_ff_by\u001b[49m\u001b[43m,\u001b[49m\n\u001b[1;32m    335\u001b[0m \u001b[43m                \u001b[49m\u001b[43mlabel\u001b[49m\u001b[38;5;241;43m=\u001b[39;49m\u001b[43mlabel\u001b[49m\u001b[43m,\u001b[49m\n\u001b[1;32m    336\u001b[0m \u001b[43m                \u001b[49m\u001b[43mspeedup_by_moltag\u001b[49m\u001b[38;5;241;43m=\u001b[39;49m\u001b[38;5;28;43mself\u001b[39;49m\u001b[38;5;241;43m.\u001b[39;49m\u001b[43mconfig\u001b[49m\u001b[38;5;241;43m.\u001b[39;49m\u001b[43mspeedup_by_moltag\u001b[49m\u001b[43m,\u001b[49m\u001b[43m  \u001b[49m\u001b[38;5;66;43;03m# This will be removed from the future iterations\u001b[39;49;00m\n\u001b[1;32m    337\u001b[0m \u001b[43m            \u001b[49m\u001b[43m)\u001b[49m\n\u001b[1;32m    338\u001b[0m \u001b[38;5;28;01melse\u001b[39;00m:\n\u001b[1;32m    339\u001b[0m     typemap \u001b[38;5;241m=\u001b[39m \u001b[38;5;28mself\u001b[39m\u001b[38;5;241m.\u001b[39m_get_atomtypes(\n\u001b[1;32m    340\u001b[0m         \u001b[38;5;28mself\u001b[39m\u001b[38;5;241m.\u001b[39mget_ff(),\n\u001b[1;32m    341\u001b[0m         \u001b[38;5;28mself\u001b[39m\u001b[38;5;241m.\u001b[39mtopology,\n\u001b[1;32m    342\u001b[0m         speedup_by_moltag\u001b[38;5;241m=\u001b[39m\u001b[38;5;28mself\u001b[39m\u001b[38;5;241m.\u001b[39mconfig\u001b[38;5;241m.\u001b[39mspeedup_by_moltag,\n\u001b[1;32m    343\u001b[0m         use_isomorphic_checks\u001b[38;5;241m=\u001b[39m\u001b[38;5;28mself\u001b[39m\u001b[38;5;241m.\u001b[39mconfig\u001b[38;5;241m.\u001b[39mspeedup_by_molgraph,\n\u001b[1;32m    344\u001b[0m     )\n",
      "File \u001b[0;32m~/miniforge3/envs/flowerMD/lib/python3.11/site-packages/gmso/parameterization/topology_parameterizer.py:221\u001b[0m, in \u001b[0;36mTopologyParameterizer._parameterize\u001b[0;34m(self, top, typemap, label_type, label, speedup_by_moltag)\u001b[0m\n\u001b[1;32m    216\u001b[0m     sites \u001b[38;5;241m=\u001b[39m top\u001b[38;5;241m.\u001b[39msites\n\u001b[1;32m    218\u001b[0m \u001b[38;5;28mself\u001b[39m\u001b[38;5;241m.\u001b[39m_parameterize_sites(\n\u001b[1;32m    219\u001b[0m     sites, typemap, forcefield, speedup_by_moltag\u001b[38;5;241m=\u001b[39mspeedup_by_moltag\n\u001b[1;32m    220\u001b[0m )\n\u001b[0;32m--> 221\u001b[0m \u001b[38;5;28;43mself\u001b[39;49m\u001b[38;5;241;43m.\u001b[39;49m\u001b[43m_parameterize_connections\u001b[49m\u001b[43m(\u001b[49m\n\u001b[1;32m    222\u001b[0m \u001b[43m    \u001b[49m\u001b[43mtop\u001b[49m\u001b[43m,\u001b[49m\n\u001b[1;32m    223\u001b[0m \u001b[43m    \u001b[49m\u001b[43mforcefield\u001b[49m\u001b[43m,\u001b[49m\n\u001b[1;32m    224\u001b[0m \u001b[43m    \u001b[49m\u001b[43mlabel_type\u001b[49m\u001b[43m,\u001b[49m\n\u001b[1;32m    225\u001b[0m \u001b[43m    \u001b[49m\u001b[43mlabel\u001b[49m\u001b[43m,\u001b[49m\n\u001b[1;32m    226\u001b[0m \u001b[43m\u001b[49m\u001b[43m)\u001b[49m\n",
      "File \u001b[0;32m~/miniforge3/envs/flowerMD/lib/python3.11/site-packages/gmso/parameterization/topology_parameterizer.py:153\u001b[0m, in \u001b[0;36mTopologyParameterizer._parameterize_connections\u001b[0;34m(self, top, ff, label_type, label)\u001b[0m\n\u001b[1;32m    148\u001b[0m     impropers \u001b[38;5;241m=\u001b[39m top\u001b[38;5;241m.\u001b[39mimpropers\n\u001b[1;32m    150\u001b[0m \u001b[38;5;28mself\u001b[39m\u001b[38;5;241m.\u001b[39m_apply_connection_parameters(\n\u001b[1;32m    151\u001b[0m     bonds, ff, \u001b[38;5;28;01mFalse\u001b[39;00m \u001b[38;5;28;01mif\u001b[39;00m \u001b[38;5;124m\"\u001b[39m\u001b[38;5;124mbond\u001b[39m\u001b[38;5;124m\"\u001b[39m \u001b[38;5;129;01min\u001b[39;00m \u001b[38;5;28mself\u001b[39m\u001b[38;5;241m.\u001b[39mconfig\u001b[38;5;241m.\u001b[39mignore_params \u001b[38;5;28;01melse\u001b[39;00m \u001b[38;5;28;01mTrue\u001b[39;00m\n\u001b[1;32m    152\u001b[0m )\n\u001b[0;32m--> 153\u001b[0m \u001b[38;5;28;43mself\u001b[39;49m\u001b[38;5;241;43m.\u001b[39;49m\u001b[43m_apply_connection_parameters\u001b[49m\u001b[43m(\u001b[49m\n\u001b[1;32m    154\u001b[0m \u001b[43m    \u001b[49m\u001b[43mangles\u001b[49m\u001b[43m,\u001b[49m\u001b[43m \u001b[49m\u001b[43mff\u001b[49m\u001b[43m,\u001b[49m\u001b[43m \u001b[49m\u001b[38;5;28;43;01mFalse\u001b[39;49;00m\u001b[43m \u001b[49m\u001b[38;5;28;43;01mif\u001b[39;49;00m\u001b[43m \u001b[49m\u001b[38;5;124;43m\"\u001b[39;49m\u001b[38;5;124;43mangle\u001b[39;49m\u001b[38;5;124;43m\"\u001b[39;49m\u001b[43m \u001b[49m\u001b[38;5;129;43;01min\u001b[39;49;00m\u001b[43m \u001b[49m\u001b[38;5;28;43mself\u001b[39;49m\u001b[38;5;241;43m.\u001b[39;49m\u001b[43mconfig\u001b[49m\u001b[38;5;241;43m.\u001b[39;49m\u001b[43mignore_params\u001b[49m\u001b[43m \u001b[49m\u001b[38;5;28;43;01melse\u001b[39;49;00m\u001b[43m \u001b[49m\u001b[38;5;28;43;01mTrue\u001b[39;49;00m\n\u001b[1;32m    155\u001b[0m \u001b[43m\u001b[49m\u001b[43m)\u001b[49m\n\u001b[1;32m    156\u001b[0m \u001b[38;5;28mself\u001b[39m\u001b[38;5;241m.\u001b[39m_apply_connection_parameters(\n\u001b[1;32m    157\u001b[0m     dihedrals,\n\u001b[1;32m    158\u001b[0m     ff,\n\u001b[1;32m    159\u001b[0m     \u001b[38;5;28;01mFalse\u001b[39;00m \u001b[38;5;28;01mif\u001b[39;00m \u001b[38;5;124m\"\u001b[39m\u001b[38;5;124mdihedral\u001b[39m\u001b[38;5;124m\"\u001b[39m \u001b[38;5;129;01min\u001b[39;00m \u001b[38;5;28mself\u001b[39m\u001b[38;5;241m.\u001b[39mconfig\u001b[38;5;241m.\u001b[39mignore_params \u001b[38;5;28;01melse\u001b[39;00m \u001b[38;5;28;01mTrue\u001b[39;00m,\n\u001b[1;32m    160\u001b[0m )\n\u001b[1;32m    161\u001b[0m \u001b[38;5;28mself\u001b[39m\u001b[38;5;241m.\u001b[39m_apply_connection_parameters(\n\u001b[1;32m    162\u001b[0m     impropers,\n\u001b[1;32m    163\u001b[0m     ff,\n\u001b[1;32m    164\u001b[0m     \u001b[38;5;28;01mFalse\u001b[39;00m \u001b[38;5;28;01mif\u001b[39;00m \u001b[38;5;124m\"\u001b[39m\u001b[38;5;124mimproper\u001b[39m\u001b[38;5;124m\"\u001b[39m \u001b[38;5;129;01min\u001b[39;00m \u001b[38;5;28mself\u001b[39m\u001b[38;5;241m.\u001b[39mconfig\u001b[38;5;241m.\u001b[39mignore_params \u001b[38;5;28;01melse\u001b[39;00m \u001b[38;5;28;01mTrue\u001b[39;00m,\n\u001b[1;32m    165\u001b[0m )\n",
      "File \u001b[0;32m~/miniforge3/envs/flowerMD/lib/python3.11/site-packages/gmso/parameterization/topology_parameterizer.py:190\u001b[0m, in \u001b[0;36mTopologyParameterizer._apply_connection_parameters\u001b[0;34m(self, connections, ff, error_on_missing)\u001b[0m\n\u001b[1;32m    187\u001b[0m         \u001b[38;5;28;01mbreak\u001b[39;00m\n\u001b[1;32m    189\u001b[0m \u001b[38;5;28;01mif\u001b[39;00m \u001b[38;5;129;01mnot\u001b[39;00m match \u001b[38;5;129;01mand\u001b[39;00m error_on_missing:\n\u001b[0;32m--> 190\u001b[0m     \u001b[38;5;28;01mraise\u001b[39;00m ParameterizationError(\n\u001b[1;32m    191\u001b[0m         \u001b[38;5;124mf\u001b[39m\u001b[38;5;124m\"\u001b[39m\u001b[38;5;124mNo parameters found for connection \u001b[39m\u001b[38;5;132;01m{\u001b[39;00mconnection\u001b[38;5;132;01m}\u001b[39;00m\u001b[38;5;124m, group: \u001b[39m\u001b[38;5;132;01m{\u001b[39;00mgroup\u001b[38;5;132;01m}\u001b[39;00m\u001b[38;5;124m, \u001b[39m\u001b[38;5;124m\"\u001b[39m\n\u001b[1;32m    192\u001b[0m         \u001b[38;5;124mf\u001b[39m\u001b[38;5;124m\"\u001b[39m\u001b[38;5;124midentifiers: \u001b[39m\u001b[38;5;132;01m{\u001b[39;00mconnection_identifiers\u001b[38;5;132;01m}\u001b[39;00m\u001b[38;5;124m in the Forcefield.\u001b[39m\u001b[38;5;124m\"\u001b[39m\n\u001b[1;32m    193\u001b[0m     )\n\u001b[1;32m    194\u001b[0m \u001b[38;5;28;01melif\u001b[39;00m match:\n\u001b[1;32m    195\u001b[0m     \u001b[38;5;28msetattr\u001b[39m(connection, group, match[\u001b[38;5;241m0\u001b[39m]\u001b[38;5;241m.\u001b[39mclone(\u001b[38;5;28mself\u001b[39m\u001b[38;5;241m.\u001b[39mconfig\u001b[38;5;241m.\u001b[39mfast_copy))\n",
      "\u001b[0;31mParameterizationError\u001b[0m: No parameters found for connection <Angle Angle, id: 140232775092256> , group: angle_type, identifiers: [['opls_145', 'opls_202', 'opls_145'], ['CA', 'S', 'CA']] in the Forcefield."
     ]
    }
   ],
   "source": [
    "import warnings\n",
    "warnings.filterwarnings('ignore')\n",
    "import flowermd\n",
    "import hoomd\n",
    "from flowermd.library import PPS, OPLS_AA, BeadSpring\n",
    "from flowermd import Pack\n",
    "from flowermd.modules.welding import SlabSimulation, Interface, WeldSimulation\n",
    "from cmeutils.visualize import FresnelGSD\n",
    "import gsd\n",
    "import matplotlib.pyplot as plt\n",
    "import numpy as np\n",
    "import pickle\n",
    "import unyt as u\n",
    "molecule = PPS(num_mols=30, lengths=12)\n",
    "cpu = hoomd.device.CPU() # So I don't get a CUDA error on local machine\n",
    "\n",
    "# Create a slab\n",
    "system = Pack(\n",
    "    molecules=molecule,\n",
    "    density=1.1 * u.g/u.cm**3,\n",
    ")\n",
    "system.apply_forcefield(r_cut=2.5, force_field=OPLS_AA(), auto_scale=True,remove_charges=True, remove_hydrogens=True)\n",
    "sim = SlabSimulation.from_system(\n",
    "    system=system,\n",
    "    interface_axis=(1,0,0),\n",
    "    gsd_file_name=\"slab_x_interface.gsd\", device = cpu\n",
    ")\n",
    "sim.forces\n",
    "for wall in sim.forces[-1].walls:\n",
    "    print(wall)\n",
    "print()\n",
    "print(\"Simulation volume:\", sim.box_lengths_reduced)\n",
    "target_box = flowermd.utils.get_target_box_mass_density(density=1.2*u.g/u.cm**3, mass=sim.mass.to(\"g\"))\n",
    "\n",
    "sim.run_update_volume(final_box_lengths=target_box, n_steps=5e4, kT=5.0, period=100, tau_kt=0.001)\n",
    "sim.run_NVT(kT=5.0, n_steps=4e4, tau_kt=0.001)\n",
    "sim.remove_walls(wall_axis=(1,0,0))\n",
    "sim.pickle_forcefield()\n",
    "sim.flush_writers()\n",
    "sim_viewer = FresnelGSD(gsd_file=\"slab_x_interface.gsd\", view_axis=(0, 1, 0), frame=-1)\n",
    "sim_viewer.view()\n",
    "\n",
    "# Create interface from the slab\n",
    "interface = Interface(gsd_files=[\"slab_x_interface.gsd\"], interface_axis=(1, 0, 0), gap=0.05)\n",
    "print(type(interface.hoomd_snapshot))\n",
    "print(\"Slab number of particles:\", system.n_particles)\n",
    "print(\"Interface number of particles:\", interface.hoomd_snapshot.particles.N)\n",
    "print()\n",
    "print(\"Slab box lengths:\", sim.box_lengths_reduced)\n",
    "print(\"Interface box lengths:\", interface.hoomd_snapshot.configuration.box[:3])"
   ]
  },
  {
   "cell_type": "code",
   "execution_count": null,
   "id": "f2508544-51db-4261-8393-ea11c337c915",
   "metadata": {},
   "outputs": [],
   "source": [
    "# Create interface from the slab\n",
    "interface = Interface(gsd_files=[\"slab_x_interface.gsd\"], interface_axis=(1, 0, 0), gap=0.05)\n",
    "print(type(interface.hoomd_snapshot))\n",
    "print(\"Slab number of particles:\", system.n_particles)\n",
    "print(\"Interface number of particles:\", interface.hoomd_snapshot.particles.N)\n",
    "print()\n",
    "print(\"Slab box lengths:\", sim.box_lengths_reduced)\n",
    "print(\"Interface box lengths:\", interface.hoomd_snapshot.configuration.box[:3])\n",
    "\n",
    "# Running a welding simulation\n",
    "# Open and load the forcefield picke file\n",
    "with open(\"forcefield.pickle\", \"rb\") as f:\n",
    "    hoomd_forces = pickle.load(f)\n",
    "\n",
    "# Let's see what is stored in this pickle file\n",
    "for force in hoomd_forces:\n",
    "    print(force)\n",
    "\n",
    "weld_sim = WeldSimulation(\n",
    "    initial_state=interface.hoomd_snapshot,\n",
    "    forcefield=hoomd_forces,\n",
    "    interface_axis=(1, 0, 0),\n",
    "    gsd_file_name=\"weld.gsd\",\n",
    "    log_file_name=\"weld_log.txt\",\n",
    "    log_write_freq=500,\n",
    "    dt=0.0003, device = cpu\n",
    ")\n",
    "weld_sim.forces\n",
    "for wall in weld_sim.forces[-1].walls:\n",
    "    print(wall)\n",
    "print()\n",
    "print(\"Simulation volume:\", weld_sim.box_lengths_reduced)\n",
    "weld_sim.run_NVT(kT=10.0, n_steps=7e4, tau_kt=0.001)\n",
    "cooling_ramp = weld_sim.temperature_ramp(n_steps=2e4, kT_start=10.0, kT_final=2.0)\n",
    "weld_sim.run_NVT(kT=cooling_ramp, n_steps=2e4, tau_kt=0.001)\n",
    "weld_sim.save_restart_gsd(\"weld_restart.gsd\")\n",
    "weld_sim.flush_writers()\n"
   ]
  },
  {
   "cell_type": "code",
   "execution_count": null,
   "id": "46d4ef06-4b4a-4c62-9158-40c491d607f4",
   "metadata": {},
   "outputs": [],
   "source": [
    "sim_viewer = FresnelGSD(gsd_file=\"weld.gsd\", view_axis=(0, 1, 0), frame=0, height=12)\n",
    "weld_colors = np.zeros_like(sim_viewer.positions)\n",
    "weld_colors[:weld_colors.shape[0]//2 + 1] = np.array([0.5, 0.25, 0.5])\n",
    "weld_colors[weld_colors.shape[0]//2 + 1:] = np.array([0.5, 0.1, 0.1])\n",
    "sim_viewer.colors = weld_colors\n",
    "sim_viewer.view(width=500, height=500)"
   ]
  },
  {
   "cell_type": "code",
   "execution_count": null,
   "id": "9d8af810-ddf8-4a16-b7f3-aef369e3946e",
   "metadata": {},
   "outputs": [],
   "source": [
    "sim_viewer.frame = -1\n",
    "sim_viewer.height = 12\n",
    "sim_viewer.view_axis = (0, 1, 0)\n",
    "sim_viewer.view(width=500, height=500)"
   ]
  },
  {
   "cell_type": "code",
   "execution_count": null,
   "id": "45bf1eac-2b94-482e-aa6c-09a6ddc6dcff",
   "metadata": {},
   "outputs": [],
   "source": [
    "# Running a tensile test simulation\n",
    "from flowermd.library.simulations.tensile import Tensile\n",
    "# Open and load the forcefield picke file\n",
    "with open(\"forcefield.pickle\", \"rb\") as f:\n",
    "    hoomd_forces = pickle.load(f)\n",
    "    \n",
    "tensile_sim = Tensile(\n",
    "    initial_state=\"weld_restart.gsd\",\n",
    "    forcefield=hoomd_forces,\n",
    "    tensile_axis=(1,0,0),\n",
    "    gsd_file_name=\"tensile.gsd\",\n",
    "    gsd_write_freq=1000,\n",
    "    log_file_name=\"tensile_log.txt\",\n",
    "    log_write_freq=500,\n",
    "    fix_ratio=0.30,\n",
    "    device = cpu\n",
    ")\n",
    "tensile_sim.run_tensile(n_steps=1e5, strain=0.30, period=500, kT=2.0, tau_kt=0.001)\n",
    "tensile_sim.flush_writers()"
   ]
  }
 ],
 "metadata": {
  "kernelspec": {
   "display_name": "Python 3 (ipykernel)",
   "language": "python",
   "name": "python3"
  },
  "language_info": {
   "codemirror_mode": {
    "name": "ipython",
    "version": 3
   },
   "file_extension": ".py",
   "mimetype": "text/x-python",
   "name": "python",
   "nbconvert_exporter": "python",
   "pygments_lexer": "ipython3",
   "version": "3.11.0"
  }
 },
 "nbformat": 4,
 "nbformat_minor": 5
}
